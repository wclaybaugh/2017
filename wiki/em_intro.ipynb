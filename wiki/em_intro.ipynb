{
 "cells": [
  {
   "cell_type": "markdown",
   "metadata": {},
   "source": [
    "# The EM algorithm\n",
    "\n",
    "##### Keywords: maximum likelihood, mixture model, ELBO, full-data likelihood, x-likelihood, latent variables, log-likelihood, training set, normal distribution, z-posterior"
   ]
  },
  {
   "cell_type": "code",
   "execution_count": 1,
   "metadata": {
    "collapsed": false
   },
   "outputs": [],
   "source": [
    "%matplotlib inline\n",
    "import numpy as np\n",
    "import scipy as sp\n",
    "import matplotlib as mpl\n",
    "import matplotlib.cm as cm\n",
    "import matplotlib.pyplot as plt\n",
    "import pandas as pd\n",
    "pd.set_option('display.width', 500)\n",
    "pd.set_option('display.max_columns', 100)\n",
    "pd.set_option('display.notebook_repr_html', True)\n",
    "import seaborn as sns\n",
    "sns.set_style(\"whitegrid\")\n",
    "sns.set_context(\"poster\")"
   ]
  },
  {
   "cell_type": "markdown",
   "metadata": {},
   "source": [
    "$$\\newcommand{\\isum}{\\sum_{i}}$$\n",
    "$$\\newcommand{\\zsum}{\\sum_{k=1}^{K}}$$\n",
    "$$\\newcommand{\\zsumi}{\\sum_{\\{z_i\\}}}$$"
   ]
  },
  {
   "cell_type": "markdown",
   "metadata": {},
   "source": [
    "## A toy problem\n",
    "\n",
    "This example is taken from Efron and Hastie, Computer Age Statistical Inference.\n",
    "\n",
    "Assume we have data drawn from a bi-variate Normal\n",
    "\n",
    "![](images/gform1.png)\n"
   ]
  },
  {
   "cell_type": "code",
   "execution_count": 2,
   "metadata": {
    "collapsed": false
   },
   "outputs": [
    {
     "name": "stdout",
     "output_type": "stream",
     "text": [
      "True Values\n",
      "Means:\n",
      " [ 1.85  1.  ]\n",
      "Covariance Matrix:\n",
      " [[ 1.      0.615 ]\n",
      " [ 0.615   0.5625]]\n"
     ]
    }
   ],
   "source": [
    "sig1=1\n",
    "sig2=0.75\n",
    "mu1=1.85\n",
    "mu2=1\n",
    "rho=0.82\n",
    "means=np.array([mu1, mu2])\n",
    "cov = np.array([\n",
    "    [sig1**2, sig1*sig2*rho],\n",
    "    [sig2*sig1*rho, sig2**2]\n",
    "])\n",
    "print(\"True Values\")\n",
    "print(\"Means:\\n\", means)\n",
    "print(\"Covariance Matrix:\\n\", cov)"
   ]
  },
  {
   "cell_type": "markdown",
   "metadata": {},
   "source": [
    "We sample some points from this distribution:"
   ]
  },
  {
   "cell_type": "code",
   "execution_count": 3,
   "metadata": {
    "collapsed": true
   },
   "outputs": [],
   "source": [
    "samples=np.random.multivariate_normal(means, cov, size=40)"
   ]
  },
  {
   "cell_type": "markdown",
   "metadata": {},
   "source": [
    "We plot the samples below as blue circles. \n",
    "\n",
    "**But wait!** Suppose y-values of the last-20 pieces of data. We are left with a missing data or hidden data or latent-variables problem. We plot both datasets below, with the y-values of the lost points set to 0"
   ]
  },
  {
   "cell_type": "code",
   "execution_count": 4,
   "metadata": {
    "collapsed": false
   },
   "outputs": [
    {
     "data": {
      "image/png": "[encoded data removed]",
      "text/plain": [
       "<matplotlib.figure.Figure at 0x2b084e0e278>"
      ]
     },
     "metadata": {},
     "output_type": "display_data"
    }
   ],
   "source": [
    "samples_censored=np.copy(samples)\n",
    "samples_censored[20:,1]=0\n",
    "plt.plot(samples_censored[:,0], samples_censored[:,1], 's', markersize=15, alpha=1, label=\"Missingness Dataset\")\n",
    "plt.plot(samples[:,0], samples[:,1], 'o', c='red',  alpha=1, label=\"Full Dataset\")\n",
    "plt.legend();"
   ]
  },
  {
   "cell_type": "markdown",
   "metadata": {},
   "source": [
    "\n",
    "We would use MLE if we had all the data. \n",
    "\n",
    "![](images/gform2.png)"
   ]
  },
  {
   "cell_type": "code",
   "execution_count": 5,
   "metadata": {
    "collapsed": true
   },
   "outputs": [],
   "source": [
    "mu1 = lambda s: np.mean(s[:,0])\n",
    "mu2 = lambda s: np.mean(s[:,1])\n",
    "s1 = lambda s: np.std(s[:,0])\n",
    "s2 = lambda s: np.std(s[:,1])\n",
    "rho = lambda s: np.mean((s[:,0] - mu1(s))*(s[:,1] - mu2(s)))/(s1(s)*s2(s))"
   ]
  },
  {
   "cell_type": "markdown",
   "metadata": {},
   "source": [
    "But we don't have all the data, so running everything through the MLE estimators is out.\n",
    "\n",
    "We could use only the points for which we have full data, but that's wasting a lot of strength: we have x values for the remaining points, just not y values. How can we get a good estimate of the parameters using all of the data we have?\n",
    "\n",
    "### Iterative Solution: EM (Expectation/Maximization)\n",
    "We shall follow an iterative process to find good estimates for the data. In Gibbs sampling we picked an initial guess and went back and forth between two update process. EM has the same two-step flavor, but a different justifcation.\n",
    "\n",
    "#### M Step (estimte the parameters)\n",
    "To start, we impute 0 for all of the missing values (this seems insane, but it will ultimately matter about as much as the starting point in gradient descent). Then we just go ahead and find the MLE estimates."
   ]
  },
  {
   "cell_type": "code",
   "execution_count": 6,
   "metadata": {
    "collapsed": false
   },
   "outputs": [
    {
     "name": "stdout",
     "output_type": "stream",
     "text": [
      "Means:\n",
      " 1.84037225001 0.48065176832\n",
      "SDs:\n",
      " 1.24890962772 0.804534434368\n",
      "Correlation:\n",
      " 0.599613302922\n"
     ]
    }
   ],
   "source": [
    "mu1s=[]\n",
    "mu2s=[]\n",
    "s1s=[]\n",
    "s2s=[]\n",
    "rhos=[]\n",
    "\n",
    "mu1s.append(mu1(samples_censored))\n",
    "mu2s.append(mu2(samples_censored))\n",
    "s1s.append(s1(samples_censored))\n",
    "s2s.append(s2(samples_censored))\n",
    "rhos.append(rho(samples_censored))\n",
    "\n",
    "print(\"Means:\\n\",mu1s[0],mu2s[0])\n",
    "print(\"SDs:\\n\",s1s[0],s2s[0])\n",
    "print(\"Correlation:\\n\",rhos[0])"
   ]
  },
  {
   "cell_type": "markdown",
   "metadata": {},
   "source": [
    "The estimates above are definitely terrible: the X mean and SD might be okay, but everything else is badly biased by all the zeros in Y.\n",
    "\n",
    "#### E step (estimate the missing data)\n",
    "But, since we have parameter estimates, maybe we could fill in the missing data with guesses that are better than \"all zero\". \n",
    "\n",
    "One way to fill values is to write down the expected value of Y at each X value where y is missing. Since we know that X and Y are jointly normal with [something like] the parameters above, we can find the conditional distribution of Y|X. See [wikipedia](https://en.wikipedia.org/wiki/Multivariate_normal_distribution#Conditional_distributions) for the formulae.\n",
    "\n",
    "But Y|X gives us the distribution of possible Y values at that x. We want a particular Y value, so we just take the mean.\n",
    "$$z_{i} = E_{p(Z=z \\vert \\theta, X=x_i)}[z]$$\n",
    "where we have used the notation $z$ to refer to the missing y values.\n",
    "\n",
    "Overall, our update rule plugs the $\\mu$, $\\rho$ and $\\sigma$ values into the below:\n",
    "\n",
    "$$\\bar{y}(t+1)  = \\hat{\\rho}(t)\\frac{\\hat{\\sigma_2}(t)}{\\hat{\\sigma_1}(t)} \\left( \\bar{x} - \\hat{\\mu_1}(t) \\right)+ \\hat{\\mu_2}(t)$$\n",
    "\n",
    "That is, each $z_i$ (i.e. each missing $y_i$) becomes a best-guess for $y_i$ based on the curent parameters of the joint X,Y distribution, and the matched $x_i$. This is called the E-step as it computes an Expectation to guess the missing data values. "
   ]
  },
  {
   "cell_type": "code",
   "execution_count": 7,
   "metadata": {
    "collapsed": true
   },
   "outputs": [],
   "source": [
    "def ynew(x, mu1, mu2, s1, s2, rho):\n",
    "    return mu2 + rho*(s2/s1)*(x - mu1)"
   ]
  },
  {
   "cell_type": "code",
   "execution_count": 8,
   "metadata": {
    "collapsed": false
   },
   "outputs": [
    {
     "name": "stdout",
     "output_type": "stream",
     "text": [
      "New estimates of missing Y values:\n",
      " [ 1.34068363  0.25859661  0.88678257  0.89991922  0.61132661  0.14621847\n",
      "  0.58972341  0.39867209  0.67106885  0.19055872 -0.10911032  0.03605394\n",
      "  0.64302411  0.10918825  0.76263016 -0.41417506  0.67450453 -0.22178274\n",
      "  0.74291864  0.77272996]\n"
     ]
    }
   ],
   "source": [
    "newys=ynew(samples_censored[20:,0], mu1s[0], mu2s[0], s1s[0], s2s[0], rhos[0])\n",
    "\n",
    "#update the state\n",
    "mu1s.append(mu1(samples_censored))\n",
    "mu2s.append(mu2(samples_censored))\n",
    "s1s.append(s1(samples_censored))\n",
    "s2s.append(s2(samples_censored))\n",
    "rhos.append(rho(samples_censored))\n",
    "\n",
    "print(\"New estimates of missing Y values:\\n\",newys)"
   ]
  },
  {
   "cell_type": "code",
   "execution_count": 9,
   "metadata": {
    "collapsed": false
   },
   "outputs": [
    {
     "data": {
      "image/png": "[encoded data removed]",
      "text/plain": [
       "<matplotlib.figure.Figure at 0x2b08549e208>"
      ]
     },
     "metadata": {},
     "output_type": "display_data"
    },
    {
     "name": "stdout",
     "output_type": "stream",
     "text": [
      "Means:\n",
      " 1.84037225001 0.48065176832\n",
      "SDs:\n",
      " 1.24890962772 0.804534434368\n",
      "Correlation:\n",
      " 0.599613302922\n"
     ]
    }
   ],
   "source": [
    "samples_censored=np.copy(samples)\n",
    "samples_censored[20:,1]=newys\n",
    "plt.plot(samples_censored[:,0], samples_censored[:,1], 's', markersize=15, alpha=1, label=\"Missingness Dataset\")\n",
    "plt.plot(samples[:,0], samples[:,1], 'o', c='red',  alpha=1, label=\"Full Dataset\")\n",
    "plt.legend();\n",
    "plt.show();\n",
    "\n",
    "print(\"Means:\\n\",mu1s[1],mu2s[1])\n",
    "print(\"SDs:\\n\",s1s[1],s2s[1])\n",
    "print(\"Correlation:\\n\",rhos[1])"
   ]
  },
  {
   "cell_type": "markdown",
   "metadata": {},
   "source": [
    "These estimates look a bit better than the all-zeros estimate.\n",
    "\n",
    "### Looping\n",
    "Now it's clear that we can repeat the E and M steps and hopefully get a less bogus estimate of the parameters and then a less bogus estimate of the missing data, and so on."
   ]
  },
  {
   "cell_type": "code",
   "execution_count": 10,
   "metadata": {
    "collapsed": false
   },
   "outputs": [
    {
     "name": "stdout",
     "output_type": "stream",
     "text": [
      "Means:\n",
      " [ 1.85  1.  ]\n",
      "Covariance Matrix:\n",
      " [[ 1.      0.615 ]\n",
      " [ 0.615   0.5625]]\n"
     ]
    },
    {
     "data": {
      "text/html": [
       "<div>\n",
       "<table border=\"1\" class=\"dataframe\">\n",
       "  <thead>\n",
       "    <tr style=\"text-align: right;\">\n",
       "      <th></th>\n",
       "      <th>mu1</th>\n",
       "      <th>mu2</th>\n",
       "      <th>rho</th>\n",
       "      <th>s1</th>\n",
       "      <th>s2</th>\n",
       "    </tr>\n",
       "  </thead>\n",
       "  <tbody>\n",
       "    <tr>\n",
       "      <th>0</th>\n",
       "      <td>1.840372</td>\n",
       "      <td>0.480652</td>\n",
       "      <td>0.599613</td>\n",
       "      <td>1.24891</td>\n",
       "      <td>0.804534</td>\n",
       "    </tr>\n",
       "    <tr>\n",
       "      <th>1</th>\n",
       "      <td>1.840372</td>\n",
       "      <td>0.480652</td>\n",
       "      <td>0.599613</td>\n",
       "      <td>1.24891</td>\n",
       "      <td>0.804534</td>\n",
       "    </tr>\n",
       "    <tr>\n",
       "      <th>2</th>\n",
       "      <td>1.840372</td>\n",
       "      <td>0.705390</td>\n",
       "      <td>0.868163</td>\n",
       "      <td>1.24891</td>\n",
       "      <td>0.757017</td>\n",
       "    </tr>\n",
       "    <tr>\n",
       "      <th>3</th>\n",
       "      <td>1.840372</td>\n",
       "      <td>0.705390</td>\n",
       "      <td>0.868163</td>\n",
       "      <td>1.24891</td>\n",
       "      <td>0.757017</td>\n",
       "    </tr>\n",
       "    <tr>\n",
       "      <th>4</th>\n",
       "      <td>1.840372</td>\n",
       "      <td>0.812111</td>\n",
       "      <td>0.921979</td>\n",
       "      <td>1.24891</td>\n",
       "      <td>0.779760</td>\n",
       "    </tr>\n",
       "    <tr>\n",
       "      <th>5</th>\n",
       "      <td>1.840372</td>\n",
       "      <td>0.812111</td>\n",
       "      <td>0.921979</td>\n",
       "      <td>1.24891</td>\n",
       "      <td>0.779760</td>\n",
       "    </tr>\n",
       "    <tr>\n",
       "      <th>6</th>\n",
       "      <td>1.840372</td>\n",
       "      <td>0.863477</td>\n",
       "      <td>0.933077</td>\n",
       "      <td>1.24891</td>\n",
       "      <td>0.792884</td>\n",
       "    </tr>\n",
       "    <tr>\n",
       "      <th>7</th>\n",
       "      <td>1.840372</td>\n",
       "      <td>0.863477</td>\n",
       "      <td>0.933077</td>\n",
       "      <td>1.24891</td>\n",
       "      <td>0.792884</td>\n",
       "    </tr>\n",
       "    <tr>\n",
       "      <th>8</th>\n",
       "      <td>1.840372</td>\n",
       "      <td>0.888485</td>\n",
       "      <td>0.935672</td>\n",
       "      <td>1.24891</td>\n",
       "      <td>0.797723</td>\n",
       "    </tr>\n",
       "    <tr>\n",
       "      <th>9</th>\n",
       "      <td>1.840372</td>\n",
       "      <td>0.888485</td>\n",
       "      <td>0.935672</td>\n",
       "      <td>1.24891</td>\n",
       "      <td>0.797723</td>\n",
       "    </tr>\n",
       "    <tr>\n",
       "      <th>10</th>\n",
       "      <td>1.840372</td>\n",
       "      <td>0.900777</td>\n",
       "      <td>0.936298</td>\n",
       "      <td>1.24891</td>\n",
       "      <td>0.799102</td>\n",
       "    </tr>\n",
       "    <tr>\n",
       "      <th>11</th>\n",
       "      <td>1.840372</td>\n",
       "      <td>0.900777</td>\n",
       "      <td>0.936298</td>\n",
       "      <td>1.24891</td>\n",
       "      <td>0.799102</td>\n",
       "    </tr>\n",
       "    <tr>\n",
       "      <th>12</th>\n",
       "      <td>1.840372</td>\n",
       "      <td>0.906864</td>\n",
       "      <td>0.936428</td>\n",
       "      <td>1.24891</td>\n",
       "      <td>0.799321</td>\n",
       "    </tr>\n",
       "    <tr>\n",
       "      <th>13</th>\n",
       "      <td>1.840372</td>\n",
       "      <td>0.906864</td>\n",
       "      <td>0.936428</td>\n",
       "      <td>1.24891</td>\n",
       "      <td>0.799321</td>\n",
       "    </tr>\n",
       "    <tr>\n",
       "      <th>14</th>\n",
       "      <td>1.840372</td>\n",
       "      <td>0.909898</td>\n",
       "      <td>0.936437</td>\n",
       "      <td>1.24891</td>\n",
       "      <td>0.799234</td>\n",
       "    </tr>\n",
       "    <tr>\n",
       "      <th>15</th>\n",
       "      <td>1.840372</td>\n",
       "      <td>0.909898</td>\n",
       "      <td>0.936437</td>\n",
       "      <td>1.24891</td>\n",
       "      <td>0.799234</td>\n",
       "    </tr>\n",
       "    <tr>\n",
       "      <th>16</th>\n",
       "      <td>1.840372</td>\n",
       "      <td>0.911418</td>\n",
       "      <td>0.936422</td>\n",
       "      <td>1.24891</td>\n",
       "      <td>0.799110</td>\n",
       "    </tr>\n",
       "    <tr>\n",
       "      <th>17</th>\n",
       "      <td>1.840372</td>\n",
       "      <td>0.911418</td>\n",
       "      <td>0.936422</td>\n",
       "      <td>1.24891</td>\n",
       "      <td>0.799110</td>\n",
       "    </tr>\n",
       "    <tr>\n",
       "      <th>18</th>\n",
       "      <td>1.840372</td>\n",
       "      <td>0.912181</td>\n",
       "      <td>0.936408</td>\n",
       "      <td>1.24891</td>\n",
       "      <td>0.799016</td>\n",
       "    </tr>\n",
       "    <tr>\n",
       "      <th>19</th>\n",
       "      <td>1.840372</td>\n",
       "      <td>0.912181</td>\n",
       "      <td>0.936408</td>\n",
       "      <td>1.24891</td>\n",
       "      <td>0.799016</td>\n",
       "    </tr>\n",
       "    <tr>\n",
       "      <th>20</th>\n",
       "      <td>1.840372</td>\n",
       "      <td>0.912566</td>\n",
       "      <td>0.936399</td>\n",
       "      <td>1.24891</td>\n",
       "      <td>0.798956</td>\n",
       "    </tr>\n",
       "  </tbody>\n",
       "</table>\n",
       "</div>"
      ],
      "text/plain": [
       "         mu1       mu2       rho       s1        s2\n",
       "0   1.840372  0.480652  0.599613  1.24891  0.804534\n",
       "1   1.840372  0.480652  0.599613  1.24891  0.804534\n",
       "2   1.840372  0.705390  0.868163  1.24891  0.757017\n",
       "3   1.840372  0.705390  0.868163  1.24891  0.757017\n",
       "4   1.840372  0.812111  0.921979  1.24891  0.779760\n",
       "5   1.840372  0.812111  0.921979  1.24891  0.779760\n",
       "6   1.840372  0.863477  0.933077  1.24891  0.792884\n",
       "7   1.840372  0.863477  0.933077  1.24891  0.792884\n",
       "8   1.840372  0.888485  0.935672  1.24891  0.797723\n",
       "9   1.840372  0.888485  0.935672  1.24891  0.797723\n",
       "10  1.840372  0.900777  0.936298  1.24891  0.799102\n",
       "11  1.840372  0.900777  0.936298  1.24891  0.799102\n",
       "12  1.840372  0.906864  0.936428  1.24891  0.799321\n",
       "13  1.840372  0.906864  0.936428  1.24891  0.799321\n",
       "14  1.840372  0.909898  0.936437  1.24891  0.799234\n",
       "15  1.840372  0.909898  0.936437  1.24891  0.799234\n",
       "16  1.840372  0.911418  0.936422  1.24891  0.799110\n",
       "17  1.840372  0.911418  0.936422  1.24891  0.799110\n",
       "18  1.840372  0.912181  0.936408  1.24891  0.799016\n",
       "19  1.840372  0.912181  0.936408  1.24891  0.799016\n",
       "20  1.840372  0.912566  0.936399  1.24891  0.798956"
      ]
     },
     "execution_count": 10,
     "metadata": {},
     "output_type": "execute_result"
    }
   ],
   "source": [
    "for step in range(1,20):\n",
    "    samples_censored[20:,1] = newys\n",
    "    #M-step\n",
    "    mu1s.append(mu1(samples_censored))\n",
    "    mu2s.append(mu2(samples_censored))\n",
    "    s1s.append(s1(samples_censored))\n",
    "    s2s.append(s2(samples_censored))\n",
    "    rhos.append(rho(samples_censored))\n",
    "    #E-step\n",
    "    newys=ynew(samples_censored[20:,0], mu1s[step], mu2s[step], s1s[step], s2s[step], rhos[step])\n",
    "df=pd.DataFrame.from_dict(dict(mu1=mu1s, mu2=mu2s, s1=s1s, s2=s2s, rho=rhos))\n",
    "\n",
    "print(\"Means:\\n\", means)\n",
    "print(\"Covariance Matrix:\\n\", cov)\n",
    "df"
   ]
  },
  {
   "cell_type": "markdown",
   "metadata": {},
   "source": [
    "Voila. We converge to stable values of our parameters.\n",
    "\n",
    "But they may not be the ones we seeded the samples with. The EM algorithm is only good upto finding local minima, and a finite sample size also means that the minimum found can be slightly different."
   ]
  },
  {
   "cell_type": "code",
   "execution_count": 11,
   "metadata": {
    "collapsed": false
   },
   "outputs": [
    {
     "data": {
      "image/png": "[encoded data removed]",
      "text/plain": [
       "<matplotlib.figure.Figure at 0x2b085501b38>"
      ]
     },
     "metadata": {},
     "output_type": "display_data"
    },
    {
     "name": "stdout",
     "output_type": "stream",
     "text": [
      "Means:\n",
      " 1.84037225001 0.912566494281\n",
      "SDs:\n",
      " 1.24890962772 0.798955929091\n",
      "Correlation:\n",
      " 0.936398652852\n"
     ]
    }
   ],
   "source": [
    "samples_censored=np.copy(samples)\n",
    "samples_censored[20:,1]=newys\n",
    "plt.plot(samples_censored[:,0], samples_censored[:,1], 's', markersize=15, alpha=1, label=\"Missingness Dataset\")\n",
    "#plt.plot(samples[:,0], samples[:,1], 'o', c='red',  alpha=1, label=\"Full Dataset\")\n",
    "plt.legend();\n",
    "plt.show();\n",
    "print(\"Means:\\n\",mu1s[-1],mu2s[-1])\n",
    "print(\"SDs:\\n\",s1s[-1],s2s[-1])\n",
    "print(\"Correlation:\\n\",rhos[-1])"
   ]
  },
  {
   "cell_type": "markdown",
   "metadata": {},
   "source": [
    "Looks like we're making reaonable guesses about the missing values, and the parameters.\n",
    "\n",
    "**Warning** EM is about making the updates to the parameters. Imputing missing data as in this example is a nice educational conceit, but not fundamental to the algorithm. EMs can run entirely without assigning values to the Zs."
   ]
  },
  {
   "cell_type": "markdown",
   "metadata": {},
   "source": [
    "## The EM algorithm\n",
    "\n",
    "** Expectation-maximization (EM)** method is an iterative method for maximizing difficult \n",
    "likelihood (or posterior) problems. It was first introduced by Dempster, Laird, and Rubin (1977). \n",
    "\n",
    "EM recognizes that if the data were fully observed, then  ML/ MAP estimates would be easy to compute. It thus alternates between inferring the missing values given the parameters (E step), and then optimizing the parameters given the “filled in” data (M step). \n",
    "The idea is to find a lower-bound \n",
    "on the log-likelihood $\\ell$ (E-step) and the optimize the lower-bound (M-step). \n",
    "\n",
    "**We want to use EM wherever we dont know how to optimize simply the x-data likelihood.**\n",
    "\n",
    "The EM algorithm is naturally useful for missing data, truncated data, censored data and grouped data problems. But it is also useful at places where you have clusters like mixture models, and you are working in an unsupervised or semi-supervised mode. Basically, any place you can set up a latent variable model or a data augmentation procedure, EM is useful.\n",
    "\n",
    "There are applications in astronomical image analysis, genetics, engineering, etc\n",
    "\n",
    "The basic idea is:\n",
    "\n",
    "**calculate MLE estimates for the incomplete data problem by using the complete-data likelihood. To create complete data, augment the observed data with manufactured data**\n",
    "\n",
    "Sorta like, just assign points to clusters to start with and iterate.\n",
    "\n",
    "Then, at each iteration, replace the augmented data by its conditional expectation given current observed data and parameter estimates. (E-step) Maximize the full-data likelihood to do the M-step.\n",
    "\n"
   ]
  },
  {
   "cell_type": "markdown",
   "metadata": {},
   "source": [
    "## Why is EM important?\n",
    "\n",
    "We have motivated the EM algorithm using missing data and will continue to mixture models, but these are not its only place of use. \n",
    "\n",
    "Since MLE's can overfit, we often prefer to use MAP estimation which, essentially, includes a prior to regularize the likelihood. EM is a perfectly reasonable method for MAP estimation in mixture models; you just need to multiply in the prior.\n",
    "\n",
    "Basically the EM algorithm has a similar setup to the data augmentation problem and can be used in any problem which has a similar structure. Suppose for example you have two parameters $\\phi$ and $\\gamma$ in a posterior estimation, with daya $y$. Say that we'd like to estimate the posterior $p(\\phi  \\vert  y)$. It may be relatively hard to estimate this, but suppose we can  work with $p(\\phi  \\vert  \\gamma, y)$ and $p(\\gamma  \\vert  \\phi, y)$. Then you can use the structure of the EM algorithm to estimate the marginal posterior of any one parameter. Start with:\n",
    "\n",
    "$$log p(\\phi  \\vert  y) = log p(\\gamma, \\phi  \\vert  y) - log p(\\gamma  \\vert  \\phi, y)$$\n",
    "\n",
    "Notice the similarity of this to the above expressions with $\\phi$ as $x$, $y$ as $\\theta$, and $\\gamma$ as $z$. Thus the same derivations apply toany problem with this structure.\n",
    "\n",
    "This structure can also be used in type-2 likelihood or emprical bayes estimation."
   ]
  }
 ],
 "metadata": {
  "anaconda-cloud": {},
  "kernelspec": {
   "display_name": "Python 3",
   "language": "python",
   "name": "python3"
  },
  "language_info": {
   "codemirror_mode": {
    "name": "ipython",
    "version": 3
   },
   "file_extension": ".py",
   "mimetype": "text/x-python",
   "name": "python",
   "nbconvert_exporter": "python",
   "pygments_lexer": "ipython3",
   "version": "3.6.0"
  }
 },
 "nbformat": 4,
 "nbformat_minor": 0
}
