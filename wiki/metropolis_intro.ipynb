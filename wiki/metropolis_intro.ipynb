{
 "cells": [
  {
   "cell_type": "markdown",
   "metadata": {},
   "source": [
    "## TL;DR\n",
    "Metropolis is an amazing algroithm that lets us sample from an arbitrary distribution. We need to provide a symmetric proposal distribution at each possible state in order to kickstart the algorithm, however.\n",
    "\n",
    "But you should really read.\n",
    "\n",
    "## Recap\n",
    "So far, we've seen that markov processes can and often do converge to a specific distribution based only on the transition matrix and regardless of starting state. We've even seen the exact conditions we require. \n",
    "\n",
    "We've also noted that if we pick a clever transition matrix we can force the stationary distribution to be a distribution we care about, and that we can get samples from that distribution by simply running the updates suggested by the transition matrix.\n",
    "\n",
    "## Metropolis Algorithm\n",
    "The Metropolis algorithm is a way of building a transition matrix that converges to a distribution of interest $p(x)$. \n",
    "\n",
    "To focus its effort, the Metropolis algorithm doesn't build the transition matrix from scratch, it uses pre-existing transition matrix and edits that matrix. Further, the matrix it produces will obey detailed balance with $p(x)$, rather than just stationarity.\n",
    "\n",
    "Importantly, Metropolis won't build out the whole transition matrix, it will just make needed edits on the fly. Likewise, the Metropolis algorithm won't require us to know $p(x)$ exactly, but only up to a missing constant factor (which occurs a TON in practice with Bayes theorem, where the numerator is easy to find but the normalizing constant is difficult)\n"
   ]
  },
  {
   "cell_type": "markdown",
   "metadata": {},
   "source": [
    "### Algorithm\n",
    "Input: \n",
    "\n",
    "1. A distribution we want to sample from $p(x)$\n",
    "2. A proposal distribution at each value of x. \n",
    "    - The family can be written $q(x_{new}|x)$ or $T(x_{new}|x)$. For either one we supply an x and get the probability of moving to any value $x_{new}$ \n",
    "    - The proposal is chosen by the user and is a matter of some art. It must be possible to sample from $q$. \n",
    "    - Further, the probability of a move from $x$ to $x_{new}$ must match the probability of a move from $x_{new}$ to $x$. \n",
    "    - For these reasons, it is very popular to choose (for all x) a symetric distribution centered on the current x value, e.g. $q(x_{new}|x)= normal(x,\\sigma)$\n",
    "3. Number of iterations\n",
    "\n",
    "Output:\n",
    "\n",
    "1. One sample per iteration from a markov chain whose stationary distribution is $p(x)$.\n",
    "\n",
    "<b>\n",
    "Procedure:\n",
    "1. Arbitrarially pick an intital state (i.e. pick a value for x).\n",
    "2. Plug that x into $q(x_{new}|x)$ to get a probability distribution of possible $x_{new}$ values, and sample to get a particular value of $x_{new}$.\n",
    "4. Roll Uniform(0,1). \n",
    "5. IF the value above is less than $\\frac{p(x_{new})}{p(x)}$, $x$ becomes $x_{new}$\n",
    "6. ELSE x is unchanged\n",
    "7. Record the present value of x as a sample from the chain and go to 2. </b>"
   ]
  },
  {
   "cell_type": "markdown",
   "metadata": {},
   "source": [
    "### Explanation\n",
    "Metropolis places a traffic cop on the road between each state. Each time the red ferrari tries to cross that road the cop has a chance of catching the ferrari and making it stay where it was.\n",
    "\n",
    "In particular, if the destination state is more probable under $p$ than the  origin state, the move is always allowed. This helps probability flow to states that are more likely under $p$. Further, if the destination state is 10 times less common under $p$ than the origin state the move is only allowed 1/10 of the time. Again, this favors spending time in states that are more probable under $p$.\n",
    "\n",
    "The net effect is to edit the transition probabilities specified by $q(x_{new}|x)$. If the transition is to a more probable sate under $p$, it's left unchanged. If the transition is to a less probable state, it's diminished. Finally, the diagonal entries grow since transitions from $x$ to $x$ happen when a move is rejected.\n"
   ]
  },
  {
   "cell_type": "markdown",
   "metadata": {},
   "source": [
    "### Proof\n",
    "We'll show that Metropolis obeys detailed balance under $p$ and that $p(x)$ is thus the stationary distribution of the edited chain.\n",
    "\n",
    "#### Writing the transition probability\n",
    "The transition matrix (or kernel) can be written in this form for Metropolis:\n",
    "\n",
    "$$T(x_{new} \\vert x) = q(x_{new} \\vert x)\\,A(x_{new}, x) +  \\delta(x==x_{new})r(x)$$\n",
    "\n",
    "where\n",
    "\n",
    "$$A(x_{new}, x) = min(1,  \\frac{p(x_{new})}{p(x)})$$ \n",
    "\n",
    "is the Metropolis acceptance probability (you propose the move and accept it) and \n",
    "\n",
    "$$r(x) = \\int q(y \\vert x)(1 - A(y, x)) dy$$ is the total probability of rejecting a move that starts at x. \n",
    "\n",
    "#### Reading the transition probbility\n",
    "Let's parse the terms above:\n",
    "\n",
    "- the transition probability has two terms: one for accepted moves that end at $x_{new}$ and one for rejected terms that end at $x_{new}$\n",
    "- the first term is the probability of moving to $x_{new}$ from $x$: The chance of proposing $x_{new}$ while at $x$ times the probability of accepting that move\n",
    "- the second term starts with a delta function, so $r(x)$ is present when x==x_new and is absent otherwise. $r(x)$ of rejecting a move away from x (i.e. of rejecting a move away from $x_{new}$\n",
    "\n",
    "#### Checking detailed balance\n",
    "Detailed balance requires that when stocks are according to $p(x)$ flow from A to B match flow from B to A for all such pairs. So we want to show that $T( x \\vert x_{new})p(x_{new}) = T( x_{new} \\vert x )p(x)$.\n",
    "\n",
    "Plugging in the transition probabilites above,\n",
    "\n",
    "$$p(x_{new}) T( x \\vert x_{new} ) =  p(x_{new}) q(x \\vert x_{new})\\,A(x, x_{new}) +  p(x_{new}) \\delta(x_{new} == x)r(x_{new})$$\n",
    "\n",
    "$$p(x)T( x_{new} \\vert x ) =  p(x) q(x_{new} \\vert x)\\,A(x_{new}, x) +  p(x)\\delta(x==x_{new})r(x)$$\n",
    "\n",
    "We said that the terms after the plus sign are zero when $x\\ne x_{new}$. When $x=x_{new}$ the terms are still equal, so remove them from consideration.\n",
    "\n",
    "Assume, without loss of generality that $p(x) < p(x_{new})$, so that moves from $x$ to $x_{new}$ are always accepted and $A(x_{new}, x)$ is 1. \n",
    "\n",
    "The first term of the second expression is now just $p(x) q(x\\vert x_{new} )$.\n",
    "\n",
    "The first term in the first expression is $p(x_{new}) q(x \\vert x_{new}) \\frac{p(x)}{p(x_{new})}$,\n",
    "\n",
    "So Metropolis obeys detailed balance iff \n",
    "\n",
    "$$p(x) q(x\\vert x_{new} ) = p(x_{new}) q(x \\vert x_{new}) \\frac{p(x)}{p(x_{new})}$$\n",
    "\n",
    "$$q(x\\vert x_{new} ) = q(x_{new} \\vert x)$$\n",
    "\n",
    "Since the proposals are symmetric, detailed balance holds and $p(x)$ is the stationary distribution of the edited transition probabilites, as desired.\n",
    "\n",
    "### Aperiodic, etc\n",
    "Detailed balance assures us we have the intended stationary distribution. Will the chain converge there? We need to check the other properties.\n",
    "\n",
    "The possibility of rejection in the Metropolis algorithm based on the throw of a random uniform makes the chain aperiodic. And if we want it to be irreducible, we need to make sure $q$ can go everywhere that $p$ can (eventually), i.e. support of $p$ is covered by the support of at least some $q$. Picking an unbounded distribution at each x is an easy guarantee, though.\n"
   ]
  },
  {
   "cell_type": "markdown",
   "metadata": {},
   "source": [
    "## Example\n",
    "We'll sample normally distirbuted numbers without involving Box-Muller.\n",
    "\n",
    "We choose Uniform[x-1,x+1] as our proposal distribution for any given x. If you want, tinker with smaller or wider proposals and even with a non-symmetric one."
   ]
  },
  {
   "cell_type": "code",
   "execution_count": 1,
   "metadata": {
    "collapsed": true
   },
   "outputs": [],
   "source": [
    "import numpy as np\n",
    "import matplotlib.pyplot as plt\n",
    "from scipy.stats import uniform\n",
    "from scipy.stats import norm\n",
    "%matplotlib inline\n",
    "\n",
    "def metropolis(p, qdraw, nsamp, xinit):\n",
    "    #p returns the pdf of p at any given x\n",
    "    #when given an x, q_draw gives a sample from the proposal q(x_new|x)\n",
    "    samples=np.empty(nsamp)\n",
    "    x_prev = xinit\n",
    "    for i in range(nsamp):\n",
    "        x_star = qdraw(x_prev)\n",
    "        p_star = p(x_star)\n",
    "        p_prev = p(x_prev)\n",
    "        pdfratio = p_star/p_prev\n",
    "        if np.random.uniform() < min(1, pdfratio):\n",
    "            samples[i] = x_star\n",
    "            x_prev = x_star\n",
    "        else:#we always get a sample\n",
    "            samples[i]= x_prev\n",
    "            \n",
    "    return samples"
   ]
  },
  {
   "cell_type": "code",
   "execution_count": 4,
   "metadata": {
    "collapsed": false
   },
   "outputs": [],
   "source": [
    "uni = uniform(-1, 2) #left bound, range\n",
    "\n",
    "#function to return a sample uniformly from [x-1 to x+1]\n",
    "def uniprop(xprev):\n",
    "    return xprev+uni.rvs()\n",
    "\n",
    "samps = metropolis(norm.pdf, uniprop, 30000, 0.0)"
   ]
  },
  {
   "cell_type": "code",
   "execution_count": 5,
   "metadata": {
    "collapsed": false
   },
   "outputs": [
    {
     "data": {
      "image/png": "[encoded data removed]",
      "text/plain": [
       "<matplotlib.figure.Figure at 0x15704211748>"
      ]
     },
     "metadata": {},
     "output_type": "display_data"
    },
    {
     "name": "stdout",
     "output_type": "stream",
     "text": [
      "starting point was  0.0\n"
     ]
    }
   ],
   "source": [
    "# plot our sample histogram\n",
    "plt.hist(samps,bins=100, alpha=0.4, label=u'MCMC distribution', normed=True) \n",
    "\n",
    "#plot the true function\n",
    "xxx= np.linspace(-4,4,1000)\n",
    "plt.plot(xxx, norm.pdf(xxx), 'r', label=u'True distribution') \n",
    "plt.legend()\n",
    "\n",
    "plt.show()\n",
    "print(\"starting point was \", 0.0)"
   ]
  },
  {
   "cell_type": "markdown",
   "metadata": {},
   "source": [
    "So there it is, our samples are normally distributed. With more samples we'll get even more accurate."
   ]
  },
  {
   "cell_type": "markdown",
   "metadata": {},
   "source": [
    "## Why not Rejection Sampling, etc?\n",
    "\n",
    "We've learnt how to do the inverse transform and how to use rejection sampling with a majorizing function. So why not use these methods to sample a distribution?\n",
    "\n",
    "It can be hard to find a majorizing $g(x)$ and this gets even harder for multidimensional $g(x)$...and to boot less efficient as you leave more and more space out. Also, our general ideais to compute expectations as sample averages, and majorizing in multiple dimensions can have us spending a lot of time in tails of distributions.\n",
    "\n",
    "Also note that the integrals being calculated in these expectations are of the type:\n",
    "\n",
    "$$E_f[g] = \\int dV f(x) g(x).$$\n",
    "\n",
    "In multiple domensions, volume elements get smaller and smaller...the curse of dimensionality. This can be seen in the diagram :\n",
    "\n",
    "![](images/cod.png)\n",
    "\n",
    "(image from Betancourt)\n",
    "\n",
    "where the centre-partitions combination to an integral goes from 1/3rd to 1/27th. Now suppose the  mode of the distibution is contained in this partition: then its contribution to the integral is going down with dimensions.\n",
    "\n",
    "As the centre volume decreases, the outer volume increases, but this is in distribution tails, so we dont get much of a contribution from there either:\n",
    "\n",
    "![](images/cod2.png)\n",
    "\n",
    "(image from Betancourt)\n",
    "\n",
    "(the slivers outside increase).\n",
    "\n",
    "It is the neighborhood between these extremes, called the **typical set** which our sampler must explore well. And to get a good rejection sampling majorizer for this becomes hard.\n",
    "\n",
    "We'll come back to this picture later..."
   ]
  },
  {
   "cell_type": "code",
   "execution_count": null,
   "metadata": {
    "collapsed": true
   },
   "outputs": [],
   "source": []
  }
 ],
 "metadata": {
  "kernelspec": {
   "display_name": "Python 3",
   "language": "python",
   "name": "python3"
  },
  "language_info": {
   "codemirror_mode": {
    "name": "ipython",
    "version": 3
   },
   "file_extension": ".py",
   "mimetype": "text/x-python",
   "name": "python",
   "nbconvert_exporter": "python",
   "pygments_lexer": "ipython3",
   "version": "3.6.0"
  }
 },
 "nbformat": 4,
 "nbformat_minor": 2
}
