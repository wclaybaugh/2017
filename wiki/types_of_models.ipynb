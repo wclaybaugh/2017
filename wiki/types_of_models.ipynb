{
 "cells": [
  {
   "cell_type": "markdown",
   "metadata": {},
   "source": [
    "## TL;DR\n",
    "There are lots of different ways to describe a model. In this class we'll touch on\n",
    "Deterministic Models vs Non-Deterministic Models: Deterministic models always give the same result for the same input. Non-deterministic models use random numbers while they run and can thus give two different results.\n",
    "Probability Models vs Outcome Models: Proability models return probabilites. Outcome models just give a particular outcome.\n",
    "Generative Models vs Non-Generative Models: Generative models specifiy the probability of seeing all the comlete dataset. Non-generative models consider part of the dataset as given, e.g. regression models are non-generative because they only predict the Y value once you tell it what the X values were. It does not tell you how likely those X values were.\n",
    "\n",
    "## Types of models\n",
    "Before we focus on statistical models, we should lay out the vocabulary with which we discuss models.\n",
    "\n",
    "### Deterministic Models vs Non-Deterministic Models\n",
    "Deterministic models take in some set of parameters or intial condititions or other data and spit out a particular result. Non-determinisitc models also take in a random number stream, so that the same parameters/initial conditions might give two different results on two different runs, depending on which random numbers come up.\n",
    "\n",
    "For example, a weather model may be deterministic: we tell it our best guess about the current state of the atmosphere and it produces a particular hurricane path. Importantly, this deterministic weather model works by just crunching the physics equations and updating the atmosphere's state.\n",
    "\n",
    "The same weather model could be made non-deterministic by giving the update step a random component. Now the model starts from a particular state but the exact hurricane track it produces depends on the random numbers that came up. As another example, consider estimating the probability of a poker hand via simulation: the model may report a probability of .207 today and a probability of .213 tomorrow: the result is non-deterministic.\n",
    "\n",
    "Deterministic vs Non-Deterministic is completely separate from the other axes below. It is merely a question of whether the model uses random numbers and thus might give a different output on different runs.\n",
    "\n",
    "### Probability Models vs Outcome Models\n",
    "Probability models are richer than outcome models. An outcome model takes in whatever data it needs and hands back a single outcome: a predicted hurricane path, a predicted stock return, whatever. \n",
    "\n",
    "A probability model returns a probability. For instance, a model that takes in current economic data and predicts the chances of a Republican winning the presidential election is a probability model: it's estimating a particular probability.\n",
    "\n",
    "Probability models can vary in what events they are able to report the probability of. The election model is very coarse: it only discusses the win/loss probability. A richer model might take in the economic data and an electoral college total and report the probability of seeing that total.\n",
    "\n",
    "Probability models can be built directly (put in inputs, get a probability) or can be extracted from a non-deterministic model by running that model over and over, e.g. finding the probability that a model puts a hurricane within 10 miles of Miami by re-running a deterministic model with different initial conditions.\n",
    "\n",
    "#### Warnings:\n",
    "Running a model repeatedly will only tell you the probabilty of a particular event occuring IN THE MODEL, as inputs vary over whatever range you've decided. Whether the probability of something occuring in the model maps to the probability of that thing in reality depends on the accuracy of the model, and the fidelity of the input range tested to the world's actual conditions.\n",
    "\n",
    "\n",
    "### Generative Models vs Non-Generative Models\n",
    "**Generative** models tell us the probability of the whole dataset\n",
    "**Non-Generative** models tell us the probability of particular poritions of the dataset, taking the rest of the dataset as given. \n",
    "\n",
    "For instance, regression models tell us the probability of seeing particular Y values paired with our fixed set of X values. To be a generative model, the model would have to give us the probability of seeing those X values in the first place.\n",
    "\n",
    "Non-Generative models can be very effective becuase they only bother to predict the portions we care about. For example in a healthcare context we may not care about the chances of a patient  weighing 200 kilos and having a blood pressure of 150, we want to estimate the chance of heart disease given that they have shown up to our door looking like that.\n",
    "\n",
    "Generative models tend to impose extra assumptions in order to explain the X data. They are more powerful than non-generative models when those assumptions are true, and less powerful/less accurate when those assumptions are false."
   ]
  },
  {
   "cell_type": "code",
   "execution_count": null,
   "metadata": {
    "collapsed": true
   },
   "outputs": [],
   "source": []
  }
 ],
 "metadata": {
  "kernelspec": {
   "display_name": "Python 3",
   "language": "python",
   "name": "python3"
  },
  "language_info": {
   "codemirror_mode": {
    "name": "ipython",
    "version": 3
   },
   "file_extension": ".py",
   "mimetype": "text/x-python",
   "name": "python",
   "nbconvert_exporter": "python",
   "pygments_lexer": "ipython3",
   "version": "3.6.0"
  }
 },
 "nbformat": 4,
 "nbformat_minor": 2
}
