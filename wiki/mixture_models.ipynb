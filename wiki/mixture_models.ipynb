{
 "cells": [
  {
   "cell_type": "code",
   "execution_count": 1,
   "metadata": {
    "collapsed": true
   },
   "outputs": [],
   "source": [
    "%matplotlib inline\n",
    "import numpy as np\n",
    "import scipy as sp\n",
    "import matplotlib.pyplot as plt\n",
    "import pandas as pd\n",
    "pd.set_option('display.width', 500)\n",
    "pd.set_option('display.max_columns', 100)\n",
    "import seaborn as sns\n",
    "from IPython.display import Image"
   ]
  },
  {
   "cell_type": "markdown",
   "metadata": {},
   "source": [
    "$$\\newcommand{\\isum}{\\sum_{i}}$$\n",
    "$$\\newcommand{\\zsum}{\\sum_{k=1}^{K}}$$\n",
    "$$\\newcommand{\\zsumi}{\\sum_{\\{z_i\\}}}$$"
   ]
  },
  {
   "cell_type": "markdown",
   "metadata": {},
   "source": [
    "## Mixture models\n",
    "\n",
    "It is common to assume that observations are correlated due to some common “cause”. Hierarchical bayesian models are an example where we assume that information flows between observations through a tied-together set of higher level hyper-parameters. \n",
    "\n",
    "We can also construct models with 'hidden' or 'augmented' variables, also known as latent variable models, which may or may not correlate with a cause. Since such models often have fewer parameters than observations, they are useful in modelling many problems.\n",
    "\n",
    "#### Mixture Definition\n",
    "An example of a hidden model is the mixture model. A distribution $p(x \\vert \\theta_{k})$ is a mixture of $K$ component distributions $p_1, p_2,... p_K$ if:\n",
    "\n",
    "$$p(x \\vert \\theta_{k}) = \\sum_k \\lambda_k p_{k}(x \\vert \\theta_k)$$\n",
    "\n",
    "with the $\\lambda_k$ being mixing weights, $\\lambda_k > 0$, $\\zsum \\lambda_k = 1$.\n",
    "\n",
    "That is, a mixture distribution is a weighted sum of other distributions, with the weights totalling to 1. Equivalently, values from a mixture distribution are found by first rolling a die with apropriate weights to see which component distribution is used, and then a value is drawn at random from that component.\n",
    "\n",
    "The component distributions ($p_k$'s) can be completely arbitrary, but we usually assume they are from the same family, like Gaussians with different centers and variances, or Poissons with different means.\n",
    "\n",
    "#### Drunk Monks as a mixture\n",
    "We have already seen an example of a mixture mode with the zero-inflated poisson distribution, originally written as:\n",
    "\n",
    "Likelihood of observing 0 is:\n",
    "\n",
    " $$\\cal{L}(y=0) = p + (1-p) e^{-\\,\\theta},$$\n",
    "\n",
    "and the Likelihood of a non-zero $y$ is:\n",
    "\n",
    " $$\\cal{L}(y \\ne 0) = (1-p) \\frac{\\theta^y e^{-\\,\\theta}}{y!}$$\n",
    "\n",
    "This model can be described by this diagram, taken from Mc-Elreath\n",
    "\n",
    "![](images/zinfmonks.png)\n",
    "\n",
    "##### In mixture format\n",
    "Fitting to the above definition, we'd have $p_1=Dirac(0)$, $p_2=Poisson(\\theta)$, $\\lambda_1=p$ and $\\lambda_2=(1-p)$. A Dirac distribution at $a$ says \"this has a 100% chance of returning $a$\" \n",
    "\n",
    "This phrasing as a mixture model matches our story: the monks flip a coin to decide if it's a drinking day or not. If they drink, we observe 0. If they work we observe a draw from a posison.\n",
    "\n",
    "(Sorry about overloading $p_1$ [the distribution ID] with $p$ [the probability that the monks drink and don't complete any books]. There are only so many letters in probability)\n"
   ]
  },
  {
   "cell_type": "markdown",
   "metadata": {},
   "source": [
    "### Sampling from a Mixture\n",
    "Suppose we have a mixture model: $p(x \\vert \\theta_{k}) = \\sum_k \\lambda_k p_{k}(x \\vert \\theta_k)$\n",
    "\n",
    "The way to generate a new observation from a mixture distribution would be the following:\n",
    "\n",
    "$$Z \\sim Categorical(\\lambda_1,\\lambda_2,...,\\lambda_K)$$\n",
    "\n",
    "where $Z$ determines which component X is drawn from. Thus $\\lambda_j$ is the probability that the hidden class variable $z$ is $j$. Then:\n",
    "\n",
    "$$X \\sim p_{z}(x \\vert \\theta_z)$$\n",
    "\n",
    "This is just the same story over again: pick which distribution to sample from according to the weights, and then sample from the apropriate distribution. For a second sample, re-decide which distribution and get a point from that distribution."
   ]
  },
  {
   "cell_type": "markdown",
   "metadata": {},
   "source": [
    "## Special Case: Gaussian Mixture Models\n",
    "\n",
    "The Gaussian mixture model or GMM is the most widely used mixture distribution. In this model, each base distribution  is a multivariate Gaussian with mean $\\mu_k$ and covariance matrix $\\Sigma_k$. Thus the model has the form\n",
    "\n",
    "$$p(x \\vert  \\mu_k , \\Sigma_k) = \\zsum \\lambda_k N(x \\vert \\mu_k , \\Sigma_k ) $$\n",
    "\n",
    "Thus each mixture component has a different set of eliptical contours, and we sum these to create our overall density.\n",
    "\n",
    "In the code below, we sample from a mixture of three normal distributions and plot them.\n",
    "\n"
   ]
  },
  {
   "cell_type": "code",
   "execution_count": 2,
   "metadata": {
    "collapsed": false
   },
   "outputs": [
    {
     "data": {
      "image/png": "[encoded data removed]",
      "text/plain": [
       "<matplotlib.figure.Figure at 0x19195356128>"
      ]
     },
     "metadata": {},
     "output_type": "display_data"
    }
   ],
   "source": [
    "from scipy.stats import multinomial\n",
    "\n",
    "#Mixture of three 1D normal distributions\n",
    "# True parameter values\n",
    "mu_true = np.array([2, 5, 10])\n",
    "sigma_true = np.array([0.6, 0.8, 0.5])\n",
    "lambda_true = np.array([.4, .2, .4])\n",
    "n = 10000\n",
    "\n",
    "#Decide which distribution we sample from on each trial\n",
    "# returns n rows of 3 entries each. In each row exactly one entry is a 1,\n",
    "# the rest are zero. The 1s occur based on the probabilites lambda_true\n",
    "z = multinomial.rvs(1, lambda_true, size=n)\n",
    "\n",
    "#done via a loop for clarity; production code should be vectorized\n",
    "x=np.zeros(n)\n",
    "for idx,row in enumerate(z):\n",
    "    distribution_id = np.nonzero(row)[0]\n",
    "    cur_mu = mu_true[distribution_id]\n",
    "    cur_sigma = sigma_true[distribution_id]\n",
    "    x[idx] = np.random.normal(cur_mu, cur_sigma)\n",
    "\n",
    "#one-liner for the above\n",
    "#x=np.array([np.random.normal(mu_true[i.astype('bool')][0], sigma_true[i.astype('bool')][0]) for i in z])\n",
    "\n",
    "sns.distplot(x, bins=100);"
   ]
  },
  {
   "cell_type": "markdown",
   "metadata": {},
   "source": [
    "### Application: Linear Discriminant Analysis is a Gaussian Mixture Model\n",
    "LDA (a subset of Gaussian Discriminant Analysis) is a model where the data are assumed to come from K different normal distributions with mixing weights $\\lambda_k$. In LDA each gaussian is assumed to have the same variance, in oder to make the math easier and faster. In GDA, each gaussian has its own varaince matrix and thus more data is needed from each class to estimate all the extra parameters.\n",
    "\n",
    "LDA and GDA are both **supervised** algorithms/models: they require known class labels for each point in the training data.\n",
    "\n",
    "\n",
    "#### Details\n",
    "Suppose we have continuous-valued input data $x$, and labels $z$.  We call  $p(x,z \\vert \\theta)$ the **full-data likelihood**. Since we have both $z$ and $x$ on our training set, this is the likelihood we will want to maximize. Let us see how to obtain it.\n",
    "\n",
    "Our model is (limiting ourselves to just two gaussians for simplicity):\n",
    "\n",
    "$$ Z \\sim \\rm{Bernoulli}(\\lambda) $$\n",
    "$$ X\\,\\vert\\,Z=0 \\sim {\\cal N}(\\mu_0, \\Sigma_0) $$\n",
    "$$ X\\,\\vert\\,Z=1 \\sim {\\cal N}(\\mu_1, \\Sigma_1) $$\n",
    "\n",
    "Expanding, the distributions details are\n",
    "$$ p(Z=z) = \\lambda^z (1-\\lambda)^{1-z}$$\n",
    "$$ p(X=x \\vert Z=0) = \\frac{1}{(2\\pi)^{n/2}  \\vert  \\Sigma \\vert ^{1/2}} \\exp \\left( -\\frac{1}{2}(x-\\mu_0)^T \\,\\Sigma_0^{-1}(x-\\mu_0) \\right) $$\n",
    "$$ p(X=x \\vert Z=1) = \\frac{1}{(2\\pi)^{n/2}  \\vert  \\Sigma \\vert ^{1/2}} \\exp \\left( -\\frac{1}{2}(x-\\mu_1)^T \\,\\Sigma_1^{-1}(x-\\mu_1) \\right) $$\n",
    "\n",
    "\n",
    "where the parameters of the model $\\lambda$, $\\Sigma_0$, $\\Sigma_1$, $\\mu_0$ and $\\mu_1$ are to be determined. \n",
    "From here on, for simplicity of exposition we will use one covariance matrix  $\\Sigma$ for both Gaussians. Hence we'll be working with LDA instead of GDA.\n",
    "\n",
    "**Likelihood**  \n",
    "The full-data log-likelihood of the data is given \n",
    "\n",
    "$$\n",
    "\\begin{eqnarray}\n",
    " l(x,z \\vert  \\lambda,\\mu_0, \\mu_1, \\Sigma) &=& \\log \\prod_{i=1}^{m} p(x_i,z_i \\vert  \\lambda, \\mu_0, \\mu_1, \\Sigma) \\nonumber \\\\ \n",
    "          &=& \\sum_{i=1}^{m} \\log \\left[p(x_i \\vert z_i,  \\mu_0, \\mu_1, \\Sigma) \\,p(z_i \\vert  \\lambda) \\right]  \\nonumber \\\\ \n",
    "          &=& \\sum_{i=1}^{m} \\log p(x_i \\vert z_i,  \\mu_0, \\mu_1, \\Sigma) + \\sum_{i=1}^{m}  \\log p(z_i \\vert  \\lambda)   \\nonumber   \\\\      \n",
    "\t&=&  -\\sum_{i=1}^{m} \\log ((2\\pi)^{n/2}  \\vert  \\Sigma \\vert ^{1/2}) - \\frac{1}{2} \\sum_{i=1}^{m}  (x-\\mu_{z_i})^T \\,\\Sigma^{-1}(x-\\mu_{z_i})   \\nonumber \\\\ \n",
    "\t\t& & \\quad \\quad +\\sum_{i=1}^{m} \\left[ z_i \\, \\log \\lambda + (1-z_i) \\log(1-\\lambda) \\right]\n",
    "\\end{eqnarray}\n",
    "$$\n",
    "\n",
    "**Finding Estimators**  \n",
    "Taking derivatives with respect to  $\\lambda$, $\\Sigma$, $\\mu_0$ and $\\mu_1$ and setting them to zero we get \n",
    "\n",
    "$$\n",
    "\\begin{eqnarray}\n",
    "   \\lambda & = &\\frac{1}{m}  \\sum_{i=1}^{m}  \\delta_{z_i,1} \\nonumber  \\\\ \n",
    "   \\mu_0 &=& \\frac{ \\sum_{i=1}^{m}  \\delta_{z_i,0} \\, x_i  }{ \\sum_{i=1}^{m}   \\delta_{z_i,0}}\\nonumber  \\\\ \n",
    "    \\mu_1 &=& \\frac{ \\sum_{i=1}^{m}  \\delta_{z_i,1} \\, x_i  }{ \\sum_{i=1}^{m}   \\delta_{z_i,1}}\\nonumber  \\\\ \n",
    " \\Sigma &=&\\frac{1}{m}   \\sum_{i=1}^{m}  (x_i-\\mu_{z_i})   (x_i-\\mu_{z_i})^{T} \n",
    "\\end{eqnarray}\n",
    "$$\n",
    "\n",
    "This gives us the obvious result, namely $\\lambda$ is nothing more but the fraction of objects with label $z=1$ and the total \n",
    "number of objects, $\\mu$'s are the mean within the class and $\\Sigma$ is the the covariance matrix \n",
    "for each group. This analysis is called \"Gaussian Discriminant Analysis\" or GDA, here specifically LDA as we tied the covariance matrices.\n",
    "\n",
    "\n",
    "#### Fitting LDA\n",
    "Lets do this in code.\n",
    "\n",
    "**Build a (simulated) dataset**"
   ]
  },
  {
   "cell_type": "code",
   "execution_count": 3,
   "metadata": {
    "collapsed": true
   },
   "outputs": [],
   "source": [
    "#In 1-D\n",
    "# True parameter values\n",
    "mu_true = np.array([2, 5])\n",
    "sigma_true = np.array([0.6, 0.6])\n",
    "lambda_true = np.array([.4, .6])\n",
    "n = 10000\n",
    "\n",
    "# Simulate from each distribution according to mixing proportion lambda_true\n",
    "from scipy.stats import binom\n",
    "z = binom.rvs(1, lambda_true[0], size=n)\n",
    "x=np.array([np.random.normal(mu_true[i], sigma_true[i]) for i in z])"
   ]
  },
  {
   "cell_type": "markdown",
   "metadata": {},
   "source": [
    "Now we split into a training set and a test set."
   ]
  },
  {
   "cell_type": "code",
   "execution_count": 4,
   "metadata": {
    "collapsed": false
   },
   "outputs": [
    {
     "data": {
      "image/png": "[encoded data removed]",
      "text/plain": [
       "<matplotlib.figure.Figure at 0x1919777add8>"
      ]
     },
     "metadata": {},
     "output_type": "display_data"
    }
   ],
   "source": [
    "#the z's are the classes in the supervised learning\n",
    "#the 'feature' is the x position of the sample\n",
    "from sklearn.model_selection import train_test_split\n",
    "ztrain, ztest, xtrain, xtest = train_test_split(z,x)\n",
    "\n",
    "plt.hist(xtrain,100)\n",
    "plt.title(\"Histogram of Training X Data\");"
   ]
  },
  {
   "cell_type": "markdown",
   "metadata": {},
   "source": [
    "**Fit the LDA model** to the training data using the estimators found above."
   ]
  },
  {
   "cell_type": "code",
   "execution_count": 5,
   "metadata": {
    "collapsed": false
   },
   "outputs": [
    {
     "name": "stdout",
     "output_type": "stream",
     "text": [
      "0.401866666667 2.00605950106 4.9905681261 0.600912607754\n"
     ]
    }
   ],
   "source": [
    "lambda_train=np.mean(ztrain)\n",
    "mu0_train = np.sum(xtrain[ztrain==0])/(np.sum(ztrain==0))\n",
    "mu1_train = np.sum(xtrain[ztrain==1])/(np.sum(ztrain==1))\n",
    "xmus = np.array([mu0_train if z==0 else mu1_train for z in ztrain])\n",
    "xdiffs = xtrain - xmus\n",
    "sigma_train = np.sqrt(np.dot(xdiffs, xdiffs)/xtrain.shape[0])\n",
    "print(lambda_train, mu0_train, mu1_train, sigma_train)"
   ]
  },
  {
   "cell_type": "markdown",
   "metadata": {},
   "source": [
    "**Using the model**  \n",
    "Great, we've got a fitted model. How should we do classification?"
   ]
  },
  {
   "cell_type": "markdown",
   "metadata": {},
   "source": [
    "We can use the log likelihood at a given `x` as a classifier: assign the class '0' or '1' depending upon which class is more likely to produce x values in at that point (i.e. which probability $p(x_j \\vert \\lambda, z, \\Sigma)$ is larger). Note that this is JUST the $x$ likelihood; z is given because we want to compare probabilities for fixed $z$s.\n",
    "\n",
    "$$log\\,p(x_j \\vert \\lambda, z, \\Sigma) = -\\sum_{i=1}^{m} \\log ((2\\pi)^{n/2}  \\vert  \\Sigma \\vert ^{1/2}) - \\frac{1}{2} \\sum_{i=1}^{m}  (x-\\mu_{z_i})^T \\,\\Sigma^{-1}(x-\\mu_{z_i})  $$\n",
    "\n",
    "The first term of the likelihood does not matter since it is independent of $z$, therefore:"
   ]
  },
  {
   "cell_type": "code",
   "execution_count": 7,
   "metadata": {
    "collapsed": false
   },
   "outputs": [
    {
     "name": "stdout",
     "output_type": "stream",
     "text": [
      "Correct classification rate 0.9944\n"
     ]
    }
   ],
   "source": [
    "def loglikdiff(x):\n",
    "    for0= - (x-mu0_train)*(x-mu0_train)/(2.0*sigma_train*sigma_train) \n",
    "    for0 = for0 + np.log(1.-lambda_train)\n",
    "    for1 = - (x-mu1_train)*(x-mu1_train)/(2.0*sigma_train*sigma_train) \n",
    "    for1 = for1 + np.log(lambda_train)\n",
    "    return 1*(for1 - for0 >= 0)\n",
    "\n",
    "pred = np.array([loglikdiff(test_x) for test_x in xtest])\n",
    "print(\"Correct classification rate\", np.mean(ztest == pred))"
   ]
  },
  {
   "cell_type": "markdown",
   "metadata": {},
   "source": [
    "**Conclusion**: The model did well, and could reliably decide which normal distribution a given data point came from. This strong performance is partly becuase the model assumptions were true (the two distributions really were Gaussian) and partly because the two gaussians were spatially well-separated. If they had overlapped more there would have been more confusion.\n",
    "\n",
    "This problem was also easy becuase we knew ahead of time which class / which gaussian each point belonged to. It would have been meaningfully more difficult to find the correct shape of each gaussian if we had to guess which gaussian particular points came from."
   ]
  }
 ],
 "metadata": {
  "kernelspec": {
   "display_name": "Python 3",
   "language": "python",
   "name": "python3"
  },
  "language_info": {
   "codemirror_mode": {
    "name": "ipython",
    "version": 3
   },
   "file_extension": ".py",
   "mimetype": "text/x-python",
   "name": "python",
   "nbconvert_exporter": "python",
   "pygments_lexer": "ipython3",
   "version": "3.6.0"
  }
 },
 "nbformat": 4,
 "nbformat_minor": 2
}
