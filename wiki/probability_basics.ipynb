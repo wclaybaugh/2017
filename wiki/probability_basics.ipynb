{
 "cells": [
  {
   "cell_type": "markdown",
   "metadata": {},
   "source": [
    "# Probability\n",
    "\n",
    "##### Keywords: probability, probability rules, marginal, conditional, independence, bayes theorem, random variables"
   ]
  },
  {
   "cell_type": "markdown",
   "metadata": {},
   "source": [
    "## Contents\n",
    "{:.no_toc}\n",
    "* \n",
    "{: toc}"
   ]
  },
  {
   "cell_type": "markdown",
   "metadata": {},
   "source": [
    "## Finding probabilities\n",
    "There are multiple ways to find the probability of an event, and each one is useful at different times. We discuss each in turn.\n",
    "\n",
    "### Probability from Symmetry and Counting\n",
    "Suppose you are about to flip a coin. You can't say whether the next toss will yield a heads or a tails.  \n",
    "\n",
    "You might tell a friend that the chance of getting a heads is equal to to the chance of getting a tails, and that both are $1/2$. The theory here is that there are two choices, with no reason to favor one over the other.\n",
    "\n",
    "Consider another example. If we are about to draw a card from a deck numbered 1-10, what's the chance of drawing a prime number? Well, there are \n",
    "four valid prime numbers: {2,3,5,7} out of 10 numbers, and each number is equally likely to be drawn (akin to rolling a 10 sided die).\n",
    "\n",
    "The examples of the coin as well as the deck illustrate the notion of probability springing from **symmetry**. Here we think of probability of of the number 4 on the dice as the ratio:\n",
    "\n",
    "$$\\frac{Number\\: of\\: cases\\: for\\: number\\: 4}{number\\: of\\: possibilities} = \\frac{1}{6},$$\n",
    " assuming equally likely possibilities.\n",
    "\n",
    "In other words, the symmetry refers to the notion that when there are multiple ways for an event to happen, we have an intuitive **model** of fairness between these ways that tells us that none of these are any more likely than the other.\n",
    "\n",
    "### Probability from frequency\n",
    "Those with a more emperical mindest might want to find probabilities by running some physical process. The idea being that \"the probability of drawing a prime number from a deck\" can be found by repeatedly drawing cards and finding the above number of prime cards divided by the number of draws emperically.\n",
    "\n",
    "For example, consider doing a large number of coin flips. You would do, or imagine doing, a large number of flips or **trials** $N$, and finding the number of times you got heads $N_H$. Then the probability of getting heads would be \n",
    "$$\\frac{N_H}{N}.$$\n",
    "\n",
    "This is the notion of probability as a **relative frequency**: if there are multiple ways an **event** like the tossing of a coin can happen, let's look at multiple trials of the event and see the fraction of times one or other of these ways happened.\n",
    "\n",
    "This jibes with our general notion of probability from symmetry: indeed you can think of it as an experimental verificaltion of a symmetry-based model.  One of the major points of this course will be that such 'roll the dice and see' strategies can work remarkably well if they are carefully designed."
   ]
  },
  {
   "cell_type": "markdown",
   "metadata": {},
   "source": [
    "## Probability from a model\n",
    "One might think of symmetry as providing a model.  There are other kinds of models. Some models take input and spit out a probability, and other models can be tortured until they give up a probability.\n",
    "\n",
    "#### Probability Models\n",
    "Consider the task of predicting an election. What does it mean that there is a 90% one candidate will win? The forecaster didn't repeatedly set the universe to today's conditions and see what happens tomorrow thousands of times, and there don't seem to be symmetries and equally likely events to count. \n",
    "\n",
    "The 90% figure may simply be a guess from some algorithm that takes in curent economic data and makes its best estimate: 90% for one candidate, 9% for another and 1% for a third. Hopefully over many repeated uses of the model it could show that out of 10,000 times it said 90%,9%,1%, about 9,000 elections went to the first candidate, 900 to the second candidate and 100 to the last candidate. But it is also possible the model is systematically wrong and the probability it reports is inaccurate.\n",
    "\n",
    "#### Single-outcome models\n",
    "Or consider what a weather forecaster means when he or she says there is a 90% chance of rain tomorrow. In most cases a weather model doesn't take in data and output a probability! Instead, it takes in the current weather conditions and chugs forward in time, producing a particular result. Perhaps you've seen hurricane predictions like the one below, which show multiple models, or multiple runs of the same model, predicting where a hurricane will progress.\n",
    "\n",
    "![Hurricane Track](images/hurricane_track.png)\n",
    "\n",
    "Thus, the forecaster's claim that there is a 90% chance of rain may be based on running and re-running a deterministic model with initial conditions matching what's known about the atmoshpere today (up to measurment uncertainty). Again, hopefully this process gets 9,000 rainy days out of 10,000 times it called for 90% rain, but the model may be systematically wrong."
   ]
  },
  {
   "cell_type": "markdown",
   "metadata": {},
   "source": [
    "## Summary\n",
    "In all of these cases, there is either a model (a fair die, a count of equally-likely events, an election forecasting model, a weather differential equation), or an experiment ( a large number of trials) that is used to **estimate** a probability, or the odds, of an **event** $E$ occuring. "
   ]
  }
 ],
 "metadata": {
  "anaconda-cloud": {},
  "celltoolbar": "Edit Metadata",
  "kernelspec": {
   "display_name": "Python 3",
   "language": "python",
   "name": "python3"
  },
  "language_info": {
   "codemirror_mode": {
    "name": "ipython",
    "version": 3
   },
   "file_extension": ".py",
   "mimetype": "text/x-python",
   "name": "python",
   "nbconvert_exporter": "python",
   "pygments_lexer": "ipython3",
   "version": "3.6.0"
  }
 },
 "nbformat": 4,
 "nbformat_minor": 0
}
