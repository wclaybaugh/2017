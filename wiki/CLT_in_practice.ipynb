{
 "cells": [
  {
   "cell_type": "markdown",
   "metadata": {},
   "source": [
    "### TL;DR\n",
    "The CLT says that the sum/mean we observe when calculating from a bunch of random variables is just one draw from a normal distribution of possible observed means. Since we know the probability of a normal random variable taking any particular value, we can do calculations to find out how far off our observed mean is likely to be from the true mean.\n",
    "\n",
    "## Applying the CLT\n",
    "The CLT says that the sum (and thus the mean) of a large/infinite number of random variables (that aren't too correlated or dependent or weird) is normally distributed.\n",
    "\n",
    "Moreover, if the variables in question all have the same mean and variance (e.g. becuase they are all draws from a particular distribution) the sum is  roughly $Normal(\\mu,\\frac{\\sigma^2}{n})$, so the variance goes down as $\\frac{1}{n}$ and the standard deviation goes down as $\\frac{1}{\\sqrt(n)}$\n",
    "\n",
    "Super. How can we expolit it?\n",
    "\n",
    "## Use: Estimating and controlling error probability\n",
    "We established in the \"LLN in practice\" notes that the distribution of particular value we see when averaging a large number of random numbers grows more precise (and often more accurate) as we increase the number of random draws used in the calculation. But how accurate is it?\n",
    "\n",
    "The CLT tells us that (for n big enough) the particular mean we observe is simply a draw from a normal centered at the true mean and with spread depending on the number of samples and the underlying distribution's variance.\n",
    "\n",
    "To estimate error probability, e.g. the chance that our mean is more than .01 away from the true mean we estimate the underlying distirbution's variance $\\sigma^2$ (via whatever method) and find $$P(-0.1<Normal(0,\\frac{\\sigma^2}{n})<0.1$$\n",
    "\n",
    "To actively control error probability we just solve for n in the above equation. If we want a lower than 10% chance of our mean being off by more than .02 and we've estimated the underlying variance to be 5 we want: $$P(-.02<Normal(0,\\frac{25}{n})<.02)<.10$$ and find a value of n that makes the inequality hold.\n",
    "\n",
    "#### Caveat\n",
    "The CLT itself only holds when the number of samples, n, is infinite. Often the result holds with good accuracy for finite n (on the order of 30 samples is commonly good enough), but it is worth thinking through whether the CLT is likely to hold in your example, or move to an inequality explicitly intended for finite n."
   ]
  },
  {
   "cell_type": "code",
   "execution_count": null,
   "metadata": {
    "collapsed": true
   },
   "outputs": [],
   "source": []
  }
 ],
 "metadata": {
  "kernelspec": {
   "display_name": "Python 3",
   "language": "python",
   "name": "python3"
  },
  "language_info": {
   "codemirror_mode": {
    "name": "ipython",
    "version": 3
   },
   "file_extension": ".py",
   "mimetype": "text/x-python",
   "name": "python",
   "nbconvert_exporter": "python",
   "pygments_lexer": "ipython3",
   "version": "3.6.0"
  }
 },
 "nbformat": 4,
 "nbformat_minor": 2
}
