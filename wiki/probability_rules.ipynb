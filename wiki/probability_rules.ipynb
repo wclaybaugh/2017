{
 "cells": [
  {
   "cell_type": "markdown",
   "metadata": {},
   "source": [
    "# Probability\n",
    "\n",
    "##### Keywords: probability, probability rules, marginal, conditional, independence, bayes theorem, random variables"
   ]
  },
  {
   "cell_type": "markdown",
   "metadata": {},
   "source": [
    "## Unifying Probability\n",
    "\n",
    "We have seen multiple notions of probability so far. One might assign probabilities based on symmetry, for eg, 2 sides of a fair coin, or six sides of a fair dice. One might assign probabilities based on doing an experiment, such as the long run number of prime numbers in draws from a deck. One might assign probabilities based on beliefs; and one might even assign probabilities to events that have no chance of repeating, such as the 2012 presidential election, or the probability of rain between 2pm and 6pm today.\n",
    "\n",
    "Thus, the very definition of probability seems to be wishy-washy and subjective. You might wonder how you might work with such probabilities. For this, we turn to the rules of probability.\n",
    "\n",
    "The rules dont care where our probabilities come from or how we estimated them, as long as they behave in intuitively sensible ways.\n",
    "\n",
    "Probability Axioms:  \n",
    "$X$ is some (posibly complex) event, $\\Omega$ is the set of all possible events, i.e. every possible outcome  \n",
    "1. $p(X) >=0$;  \n",
    "    Probability of any event must be non-negative\n",
    "2. $p(\\Omega)=1$;  \n",
    "    The probability of the whole space is 1. Equivalently, some event in the list of possible events always occurs.\n",
    "3. P(A or B or C and ...) **with A,B,C,... DISJOINT** = P(A)+P(B)+P(C)  \n",
    "    The chance of any one of several only-one-can happen events is the sum of the probabilites. e.g. \"The die lands on an even number or the die lands on 5\" is the sum of each probability; $1/2+1/6=4/6$ which agrees with there being 4 out of 6 numbers on a die that are either even or 5. \"The die lands on an even number or a prime number\" is not the sum of each probability, because it's possible for the die result to be both even and prime.\n",
    "\n",
    "So, becuase all the methods above obey these laws, they all give the same probabilites. If you like to find probabilities by counting outcomes and your friend likes to run experiments and get long-run averages, you'll always get the same answers about how likely any event is, no matter how complex. And since each method quoted above does follow these rules, we're free to choose whichever perspecive we want."
   ]
  },
  {
   "cell_type": "markdown",
   "metadata": {},
   "source": [
    "# Consequences\n",
    "There are a few facts that follow from the above definition and are MUCH more useful in practice\n",
    "1. $0 ≤ p(X) ≤ 1$  \n",
    "    Any event has probability between 0 (can't happen) to 1 (always happens).\n",
    "2. $p(X)+p(X^-)=1 \\;$  \n",
    "    Any event must either happen or not happen. This allows us to say that the probability of \"Not $X$\" is $1-P(X)$.\n",
    "\n",
    "The remaining two are worth thier own sections."
   ]
  },
  {
   "cell_type": "markdown",
   "metadata": {},
   "source": [
    "### The Probability of A OR B\n",
    "\n",
    "![2 coin toss venn diagram](images/venn.png) \n",
    "\n",
    "What if we want to find the probability of \"The die lands on an even number or a prime number\", which doesn't fit the axioms above? This problem is simple enough we can see that the valid events are {2,3,5} out of 6 outcomes and the probability is 1/2. How can we find that in a more complicated situation?\n",
    "\n",
    "Let's consider events E \"the first of two coin flips is a heads\" and F \"the second toss is a heads\" and the overall event \"E or F\" = \"First toss heads, or second toss heads\".\n",
    "\n",
    "#### Via enumeration\n",
    "There are four ways that these two tosses can arrange themselves, as illustrated by this diagram, adapted from the [probability chapter](http://www.feynmanlectures.caltech.edu/I_06.html) in Feynman's lectures on Physics..you should read it!.\n",
    "\n",
    "![2 coin flips](images/2flips.png) \n",
    "\n",
    "We can have a HH, HT, TH, or TT. In three out of 4 of these cases, either the first toss was heads, or the second was heads. Thus $P(E+F)=3/4$.\n",
    "\n",
    "#### The formula:\n",
    "$$P(E\\,or\\,F) = P(E) + P(F) - P(E\\,and\\,F)$$ \n",
    "\n",
    "Here \"E or F\" (also $E \\cup F$, read as E union F) means \"E alone, F alone, **or** both together\". This rule is a hard one to understand and has a lot of notation, so let's examine it in some detail.\n",
    "\n",
    "The formula says, add the chance that \"the first toss was a heads, without worrying about the second one (1/2), to the probability that the second toss was a heads, without worrying about the first one\" (1/2). Since this double counts the situation where both are heads; subtract that (1/4):\n",
    "\n",
    "$$\\begin{eqnarray}\n",
    "P(E+F) \\, & = &\\, P(E) + P(F) - P(EF)\\\\\n",
    "\\frac{3}{4} \\, & = &\\, \\frac{1}{2} + \\frac{1}{2} - \\frac{1}{4} \n",
    "\\end{eqnarray}$$\n",
    "\n",
    "Armed with these two formulas, we can tackle the world of conditional and marginal probabilities, and Bayes theorem!\n",
    "\n",
    "#### The general formula:\n",
    "$$\n",
    "P(E\\,or,F\\,or\\,G) = [P(E) + P(F) P(G)] +[- P(E\\,and\\,F) - P(E\\,and\\,G) - P(F\\,and\\,G)]+[P(E,and\\,F\\,and\\,G)\n",
    "]$$\n",
    "\n",
    "The pattern to the formula is that each raw probability is present and positive, then all the two-event combinations are present and negative, then all the three-event combinations are present and positive, and the four-event combinations are present and negative, and so on. It's exhasuting, but it's the only fully general formula we can get."
   ]
  },
  {
   "cell_type": "markdown",
   "metadata": {},
   "source": [
    "### Probability of A AND B\n",
    "The above formula pays a lot of attention to events like \"A and B\". How can we find the probability of such events, even when A and B are themselves complicated?\n",
    "\n",
    "#### Independent events\n",
    "**If A and B are independent events**, the probability of both events happening together $P(AB)$ or $P(A \\cap B)$ (read as \"A and B\" or \"A intersection B:, respectively) is the multiplication of the individual probabilities.\n",
    "\n",
    "$$ P(AB) = P(A) P(B) .$$\n",
    "\n",
    "If you made the two independent coin tosses in our example, and you had a fair coin, the probability of both coming up heads is $(1/2)*(1/2) = 1/4$. This makes intuitive sense: half the time the first coin comes up heads, and then 1/2 the time the second coin comes up heads, so its 1/4 of the times that both come up heads.\n",
    "\n",
    "#### Dependent events\n",
    "In the much more common case that A and B are not independent, the formula is more complex. We state it here and return to it later when we dicuss conditional probability:\n",
    "\n",
    "$$P(AB)=P(A|B)P(B)$$\n",
    "Equivalently,\n",
    "$$P(AB)=P(B|A)P(A)$$\n",
    "\n",
    "The intuition here (taking the first equation) is that for A and B to occur first we need to hit B's probability, and then we need to hit the chance of A occuring, given that B has already occured. Independence is precisely the condition that P(B|A)=P(B) and/or P(A|B)=P(A)\n",
    "\n",
    "#### General formula\n",
    "Extening this to multiple events, we have:\n",
    "$$P(ABC)=P(C|AB)P(B|A)P(A)$$\n",
    "$$P(ABC)=P(A|CB)P(C|B)P(B)$$\n",
    "...\n",
    "Again, the intuition for the lower expansion is \"Hit B, then hit C given that we're already inside B, then hit A given that we're already inside B and inside C\""
   ]
  },
  {
   "cell_type": "code",
   "execution_count": null,
   "metadata": {
    "collapsed": true
   },
   "outputs": [],
   "source": []
  }
 ],
 "metadata": {
  "kernelspec": {
   "display_name": "Python 3",
   "language": "python",
   "name": "python3"
  },
  "language_info": {
   "codemirror_mode": {
    "name": "ipython",
    "version": 3
   },
   "file_extension": ".py",
   "mimetype": "text/x-python",
   "name": "python",
   "nbconvert_exporter": "python",
   "pygments_lexer": "ipython3",
   "version": "3.6.0"
  }
 },
 "nbformat": 4,
 "nbformat_minor": 2
}
