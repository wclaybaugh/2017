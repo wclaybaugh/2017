{
 "cells": [
  {
   "cell_type": "markdown",
   "metadata": {},
   "source": [
    "# The Inverse Transform\n",
    "\n",
    "##### Keywords: sampling, inverse transform, CDF,  box-muller, normal distribution"
   ]
  },
  {
   "cell_type": "markdown",
   "metadata": {},
   "source": [
    "## Contents\n",
    "{:.no_toc}\n",
    "* \n",
    "{: toc}"
   ]
  },
  {
   "cell_type": "code",
   "execution_count": 1,
   "metadata": {
    "collapsed": false,
    "hide": true
   },
   "outputs": [],
   "source": [
    "%matplotlib inline\n",
    "import numpy as np\n",
    "import matplotlib.pyplot as plt\n",
    "import seaborn as sns"
   ]
  },
  {
   "cell_type": "markdown",
   "metadata": {},
   "source": [
    "## The goal\n",
    "The goal is, given a function or probability distribution, to produce a list of numbers whose histogram looks like that function. Although these samples could be used, e.g. to approximate an expectation involving the distribution, sampling is much more fundamental than integration, since it gives us samples we could use in lots of different ways. For instance we may want to draw multiple different samples and see how different an answer a fixed analysis procedure gives on each sample.\n",
    "\n",
    "\n",
    "## A starting point\n",
    "We're going to take it as given that computer algorithms can (psuedo) randomly set each bit in a 32 or 64 bit number. This gives a uniform distribution over the integers $[0,2^{32}-1]$ or $[0,2^{64}-1]$. With some care to deal with floating point representation, this can be translated into numbers uniform over [0,1].\n",
    "\n",
    "In short, we assume technology has gifted us with a good black box to produce uniform(0,1) on our laptops.\n",
    "\n",
    "## Sampling via the inverse\n",
    "\n",
    "The basic idea behind the inverse transform method is to transform uniform samples into samples from a different distribution. That is, by somehow drawing from a uniform distribution, we make it possible to draw from the other distribution in question.\n",
    "\n",
    "At first glance this seems to be a quixotic quest, but the key observation is this: the CDF of a distribution  is a function that ranges from  0 to 1. Now assume you  use $$Uniform(0,1)$$ to generate a random number, say 0.63. Now map this number on the range (or y-axis) to a x using the CDF curve to generate a sample. This process is illustrated below:\n",
    "\n",
    "![](images/invtrans.png)\n",
    "\n",
    "The left side is the PDF we want to sample from, and the right side is that distribution's CDF.\n",
    "\n",
    "Notice that we randomly choose some samples from a uniform on the right hand side image and these correspond to  x's for the samples from the CDF.  On the left hand side we can see on the pdf the samples that these correspond to. If you sample from the uniform you will get more samples in the steep part of the cdf as the steep part of the cdf covers a good part of the probability values between 0 and 1. And thus you will get more samples in the higher parts of the pdf than elsewhere.\n",
    "\n",
    "#### Caveat\n",
    "Clearly, for all this to work, we must be able to calculate the inverse of the cdf function. Even though all CDFs are monotonic and thus invertible, actaully finding the inverse, or even the CDF itself, is often intractible. For instance, the CDF of the generally-well-behaved normal distribution can't even be written in closed form.\n",
    "\n",
    "If we do find the inverse CDF, however, no sampling method can be better than inverse sampling.\n",
    "\n",
    "## Let us formalize this:\n",
    "\n",
    "This is the process:\n",
    "\n",
    "1. get a uniform sample $u$ from $Unif(0,1)$\n",
    "1. solve for $x$ yielding a new equation $x=F^{-1}(u)$ where $F$ is the CDF of the distribution we desire. \n",
    "1. repeat.\n",
    "\n",
    "Why does this work?\n",
    "\n",
    "First note that:\n",
    "\n",
    "$F^{-1}(u) = $ smallest x such that $F(x) >=u$\n",
    "\n",
    "What distribution does random variable $y = F^{-1}(u)$ follow?\n",
    "\n",
    "The CDF of y  is $p(y <= x)$. Since F is monotonic, we can without loss of generality write:\n",
    "\n",
    "$$p(y <= x) = p(F(y) <= F(x)) = p(u <= F(x)) = F(x)$$\n",
    "\n",
    "Thus we get the CDF and hence the pdf that we want to sample from!\n",
    "\n",
    "### Example: Draw from the distribution $f(x) \\sim \\exp{(-x)}$\n",
    "\n",
    "\n",
    " For example, lets assume we would like\n",
    "to generate random numbers that follow the exponential distribution\n",
    "$f(x) = \\frac{1}{\\lambda} e^{-x/\\lambda}$ for $x\\ge0$ and $f(x)=0$ \n",
    "otherwise. Following the recipe from above\n",
    "\n",
    "$$ u = \\int_{0}^{x} \\frac{1}{\\lambda} e^{-x'/\\lambda} dx'  = 1- e^{-x/\\lambda} $$ \n",
    "\n",
    "Solving for $x$ \n",
    "$$ x = - \\lambda \\ln (1-u) $$\n",
    "\n",
    "\n",
    "\n"
   ]
  },
  {
   "cell_type": "markdown",
   "metadata": {},
   "source": [
    "Now we want the exponential with $\\lambda = 1$. The following code will produce numbers that follow this $\\exp{(-x)}$ distribution. The figure\n",
    "generated by code below shows the resulting histogram of the generated numbers\n",
    "compared to the actual $\\exp{(-x)}$."
   ]
  },
  {
   "cell_type": "code",
   "execution_count": 2,
   "metadata": {
    "collapsed": false
   },
   "outputs": [
    {
     "data": {
      "image/png": "[encoded data removed]",
      "text/plain": [
       "<matplotlib.figure.Figure at 0x1b3ec8a8e10>"
      ]
     },
     "metadata": {},
     "output_type": "display_data"
    }
   ],
   "source": [
    "# probability distribution we're trying to calculate\n",
    "p = lambda x: np.exp(-x)\n",
    "\n",
    "# CDF of p\n",
    "CDF = lambda x: 1-np.exp(-x)\n",
    "\n",
    "# invert the CDF\n",
    "invCDF = lambda r: -np.log(1-r)\n",
    "\n",
    "# domain limits\n",
    "xmin = 0 # the lower limit of our domain\n",
    "xmax = 6 # the upper limit of our domain\n",
    "\n",
    "# range limits\n",
    "rmin = CDF(xmin)\n",
    "rmax = CDF(xmax)\n",
    "\n",
    "N = 10000 # the total of samples we wish to generate\n",
    "\n",
    "# generate uniform samples in our range then invert the CDF\n",
    "# to get samples of our target distribution\n",
    "R = np.random.uniform(rmin, rmax, N)\n",
    "X = invCDF(R)\n",
    "\n",
    "# get the histogram info\n",
    "hinfo = np.histogram(X,100)\n",
    "\n",
    "# plot the histogram\n",
    "plt.hist(X,bins=100, label=u'Samples');\n",
    "\n",
    "# plot our (normalized) function\n",
    "xvals=np.linspace(xmin, xmax, 1000)\n",
    "plt.plot(xvals, hinfo[0][0]*p(xvals), 'r', label=u'p(x)')\n",
    "\n",
    "# turn on the legend\n",
    "plt.legend();\n"
   ]
  },
  {
   "cell_type": "markdown",
   "metadata": {},
   "source": [
    "Et viola, the samples we've created have the correct histogram: values that are assigned more probability in the original function appear more often in our sample. (I.e. our vector of Xs contains more 1s than 3s, as intended)."
   ]
  }
 ],
 "metadata": {
  "anaconda-cloud": {},
  "celltoolbar": "Edit Metadata",
  "kernelspec": {
   "display_name": "Python 3",
   "language": "python",
   "name": "python3"
  },
  "language_info": {
   "codemirror_mode": {
    "name": "ipython",
    "version": 3
   },
   "file_extension": ".py",
   "mimetype": "text/x-python",
   "name": "python",
   "nbconvert_exporter": "python",
   "pygments_lexer": "ipython3",
   "version": "3.6.0"
  }
 },
 "nbformat": 4,
 "nbformat_minor": 0
}
