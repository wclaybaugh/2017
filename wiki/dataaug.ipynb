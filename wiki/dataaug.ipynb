{
 "cells": [
  {
   "cell_type": "markdown",
   "metadata": {},
   "source": [
    "# Data Augmentation\n",
    "\n",
    "##### Keywords: data augmentation, gibbs sampler, MCMC"
   ]
  },
  {
   "cell_type": "markdown",
   "metadata": {},
   "source": [
    "## TL;DR\n",
    "Data Augmentation is an intinsely powerful tool for sampling from otherwise intractible distributions. It is a generalization of Gibbs sampling and an intuitive vantage point for understanding many algorithms in this class, e.g. Expectation-Maximization and Hamiltonian Monte Carlo.\n",
    "\n",
    "In Data Augmentation we invent a new variable or set of variables Y and specify conditionals p(Y|X) and p(X|Y), where X is the variables we want to sample. If p(X) [which can be found from the conditionals] is still correct we can sample by alternating updates to X and Y (like we do in Gibbs) and then dropping the Y values from the final sample. It works because it is a version of MH with acceptance probability 1."
   ]
  },
  {
   "cell_type": "markdown",
   "metadata": {},
   "source": [
    "## The Plan\n",
    "We've given some $p(x)$ to sample from. We can't. So we invent a new variable Y and specify its joint distribution with X. We choose the joint distribution to be such that the marginal $p(x) = \\int p(x|y)p(y)dy$ is the p(x) we want to sample from, and where $p(x \\vert y)$ and $p(y \\vert x)$ can be found and sampled from.\n",
    "\n",
    "Our sampling algorithm is then:\n",
    "\n",
    "1. Draw y from the conditional $Y\\sim p_{Y \\vert X}(. \\vert x)$\n",
    "2. Draw a new x from the conditional $X_{n+1} \\sim p_{X \\vert Y}(. \\vert y)$ \n",
    "3. Repeat\n",
    "\n",
    "In parctice, we don't need to write down the formula for the joint distribution: we can do all our math with just $p_{Y \\vert X}$ and $p_{X \\vert Y}$. So an equivalent satement is that in variable augmentation we invent a Y variable and give it cleverly chosen conditional distributions with the existing variable.\n",
    "\n",
    "Gibbs is a special case of data augmentation where the Y variable is pre-existing and the conditionals are handed to us on a sliver platter. In more general settings, we invent the conditionals and verify that the X marginal is still correct.\n",
    "\n",
    "In just a second, we'll prove the algorithm above is just MH with a paticular transition kernel. First, though, an example to show the process."
   ]
  },
  {
   "cell_type": "code",
   "execution_count": 1,
   "metadata": {
    "collapsed": false
   },
   "outputs": [],
   "source": [
    "%matplotlib inline\n",
    "import numpy as np\n",
    "import scipy as sp\n",
    "import matplotlib.pyplot as plt\n",
    "import pandas as pd\n",
    "pd.set_option('display.width', 500)\n",
    "pd.set_option('display.max_columns', 100)\n",
    "import seaborn as sns"
   ]
  },
  {
   "cell_type": "markdown",
   "metadata": {},
   "source": [
    "## Example\n",
    "\n",
    "\n",
    "Suppose that $p_X$ is the standard normal density, i.e., \n",
    "\n",
    "$$p(x) = e^{-x^2/2}/\\sqrt{2\\pi}$$.\n",
    "\n",
    "We'll pretend we dont know how to sample from it, becuase we've forgotten Box-Muller and MH and so on.\n",
    "\n",
    "Invent Y and define it via its joint distribution with X:\n",
    "\n",
    "$$p(x, y) = 1/(\\sqrt{2\\pi}) \\exp{\\left\\{-(x^2 - \\sqrt{2} xy + y^2) \\right\\} } $$\n",
    "\n",
    "which is a bivariate normal density with means equal to zero, variances equal to one, and correlation equal to $1/\\sqrt{2}$. We could have chosen X and Y to have any joint distribution, but we chose this one becuase 1) it has the correct marginal for X 2) the conditional distirbutions are easy.\n",
    "\n",
    "The two conditionals are normal (a property of jointly normal RVs). We can find them either looking them up or by completing the square.\n",
    "\n",
    "$$ \n",
    "Y \\vert X = x \\, \\, \\sim N(x/\\sqrt{2}, 1/2) \\,\\,\\,  \\rm{and} \\,\\,\\, X \\vert Y= y \\,\\,\\sim N(y/\\sqrt{2}, 1/2) $$\n",
    "\n",
    "#### Sampling\n",
    "We draw samples from the conditionals, as in Gibbs, and if we dicard the Y values the Xs will have the target distribution. Note that we couldn't sample the Xs directly. Inventing Y was key."
   ]
  },
  {
   "cell_type": "code",
   "execution_count": 2,
   "metadata": {
    "collapsed": false
   },
   "outputs": [],
   "source": [
    "N=100000\n",
    "x=np.zeros(N)\n",
    "x[0] = np.random.rand() # INITIALIZE\n",
    "for i in np.arange(1,N):\n",
    "    Y=sp.stats.norm.rvs(x[i-1]/np.sqrt(2), 0.5)\n",
    "    x[i]=sp.stats.norm.rvs(Y/np.sqrt(2), 0.5)"
   ]
  },
  {
   "cell_type": "code",
   "execution_count": 3,
   "metadata": {
    "collapsed": false
   },
   "outputs": [
    {
     "data": {
      "image/png": "[encoded data removed]",
      "text/plain": [
       "<matplotlib.figure.Figure at 0x2552593de48>"
      ]
     },
     "metadata": {},
     "output_type": "display_data"
    }
   ],
   "source": [
    "plt.hist(x, bins=30, alpha=0.3, normed=True);\n",
    "sns.kdeplot(x)\n",
    "plt.xlabel('x');"
   ]
  },
  {
   "cell_type": "markdown",
   "metadata": {},
   "source": [
    "## Sampling via Data Augmentation is Metropolis-Hastings\n",
    "In variable augmentation our MH proposal distribution is:\n",
    "\n",
    "$$ h(x' \\vert x) = p(X'=x'|X=x) = \\int_Y' p(x' \\vert y') \\, p(y' \\vert x)\\, dy' $$\n",
    "\n",
    "That is, the probability of transition from x to x' is found as the probability of going from $(x,y)$ to $(x',y')$, integrated across all possible values of y'. In other words, it's the probability of getting from $(x,y)$ to $(x,y')$ to $(x',y')$, but considering all possible values of y'.\n",
    "\n",
    "Even if y and y' are vectors (i.e. if we've included multiple auxillary variables) we switch from a single integral over y' to a multiple integral over each component of y, but the result is the same.\n",
    "\n",
    "We need to show that we get to skip the \"do we reject\" step of MH.\n",
    "\n",
    "The acceptance criteria is \n",
    "$$A =min\\left(1, \\frac{p(x')}{p(x)}\\frac{h(x,x')}{h(x',x)}\\right)$$\n",
    "Subbing in:\n",
    "$$min\\left(1, \\frac{p(x')}{p(x)}\\frac{p(x|x')}{p(x'|x)}\\right)$$\n",
    "Collecting numerators and denominators:\n",
    "$$min\\left(1, \\frac{p(x|x')p(x')}{p(x'|x)p(x)}\\right)$$\n",
    "Combining conditional probability:\n",
    "$$min\\left(1, \\frac{p(x,x')}{p(x',x)}\\right)$$\n",
    "$$min\\left(1, 1\\right)$$\n",
    "So we always accept.\n",
    "\n",
    "#### Summary\n",
    "Ergo, we can augment with whatever we want and simply alternate sampling from the [unknown/added] Ys given the Xs and then from the [known/preexisting] Xs given the just-obtained Ys. \n",
    "\n",
    "The trick is specifying the joint distribution of the new variables such that 1) the X marginal remains intact and 2) the conditionals Y|X and X|Y can be found and sampled from.\n",
    "\n",
    "Of course, even among conditionals with the desired properties there are better and worse choices, akin to choosing a wider/narrow proposal distribution in MH."
   ]
  },
  {
   "cell_type": "code",
   "execution_count": null,
   "metadata": {
    "collapsed": true
   },
   "outputs": [],
   "source": []
  }
 ],
 "metadata": {
  "anaconda-cloud": {},
  "kernelspec": {
   "display_name": "Python 3",
   "language": "python",
   "name": "python3"
  },
  "language_info": {
   "codemirror_mode": {
    "name": "ipython",
    "version": 3
   },
   "file_extension": ".py",
   "mimetype": "text/x-python",
   "name": "python",
   "nbconvert_exporter": "python",
   "pygments_lexer": "ipython3",
   "version": "3.6.0"
  }
 },
 "nbformat": 4,
 "nbformat_minor": 0
}
