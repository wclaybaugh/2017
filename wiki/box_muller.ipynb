{
 "cells": [
  {
   "cell_type": "markdown",
   "metadata": {},
   "source": [
    "## Box-Muller\n",
    "We mentioned in Inverse Sampling that even the normal distribution doesn't have a closed-form CDF and thus can't be sampled from via inverse sampling.\n",
    "\n",
    "Since we will be sampling from normal random variables a LOT, we'll give a method for producing samples from a normal distribution.\n",
    "\n",
    "\n",
    "### The Box-Muller algorithm\n",
    "The Box Muller method is a brilliant trick to produce two independent standard normals from two independent uniforms.\n",
    "\n",
    "The idea is this:\n",
    "\n",
    "Consider  (without loss of generality) the  joint pdf of two independent normals N(0,1):\n",
    "\n",
    "$$ X \\sim N(0,1), Y \\sim N(0,1) \\implies X,Y \\sim N(0,1)N(0,1)$$\n",
    "\n",
    "The pdf then is:\n",
    "\n",
    "$$f_{XY}(x,y)  =  \\frac{1}{\\sqrt{2\\pi}} e^{-x^2/2} \\times \\frac{1}{\\sqrt{2\\pi}} e^{-y^2/2} = \\frac{1}{2\\pi} \\times e^{-r^2/2}$$\n",
    "\n",
    "where $r^2 = x^2 + y^2$.\n",
    "\n",
    "If you think of this in terms of polar co-ordinates $r$ and $\\theta$, we have\n",
    "\n",
    "$$\\Theta \\sim Unif(0, 2\\pi),  S = R^2 \\sim Exp(1/2)$$\n",
    "\n",
    "From the inverse method for the exponential:\n",
    "\n",
    "$$ s = r^2 = -2 ln(1-u) $$\n",
    "\n",
    "where u is a sample from $U \\sim Unif(0,1)$. Now if $U \\sim Unif(0,1)$, then $1-U \\sim Unif(0,1)$.\n",
    "\n",
    "Thus  we can write:\n",
    "\n",
    "$$r = \\sqrt{-2\\,ln(u_1)}, \\theta = 2\\pi\\, u_2$$\n",
    "\n",
    "where $u_1$ and $u_2$ are both drawn from a $Unif(0,1)$s.\n",
    "\n",
    "Now we can use:\n",
    "\n",
    "$$x = r\\,cos\\theta, y = r\\,sin\\theta$$\n",
    "\n",
    "to generate samples for the normally distributed random variables $x$ and $Y$."
   ]
  },
  {
   "cell_type": "markdown",
   "metadata": {},
   "source": [
    "### Forward process\n",
    "1. Sample $\\theta \\sim Unif(0,2\\pi)$ and $r \\sim Exp(1/2)$ [We can sample from an exponential distribution via inverse sampling]\n",
    "2. Produce $x=r cos(\\theta)$ and $y=r sin(\\theta)$.\n",
    "3. The Xs and Ys are jointly normal, and so the Xs alone are normally distributed, as are the Ys alone."
   ]
  },
  {
   "cell_type": "markdown",
   "metadata": {},
   "source": [
    "### Asside: Change of variables\n",
    "TL;DR: \n",
    "\n",
    "You have the PDF f(x,y) you want to change your coordinate system to use $a=g(x,y)$ and $b=h(x,y)$. What does the new PDF looks like in terms of a and b? What is its value at a=3, b=7?\n",
    "\n",
    "First, there may be multiple x,y points that produce a=3 and b=7, so we'd have to total up all those points. But let's assume there's just one point and it's x=1, y=2. Is the new PDF just the value of the old PDF at x=1 and y=2? Nope. You need to account for the stretching that the g and h transformations applied to the space, so multilpy the old PDF's value at x=1, y=2 [f(1,2)] by the determinant of the jacobian of the transformation at x=1,y=2. In 1d, the jacobian is just the transformation's derivative.\n",
    "\n",
    "Overall $f_new(a,b) = f(m(a,b),n(a,b))\\.J(m(a,b),n(a,b))$ where $m(a,b)$ gives the (assumed unique) x input that produces (a,b) and $n(a,b)$ gives the (assumed unique) y input that produces (a,b), and J is the Jacobian of the transformation from (x,y) to (a,b).\n",
    "\n",
    "\n",
    "### Aside: Change of variables\n",
    "We've hand-waved around a bit here in this derivation, so let us ask, what is the pdf in polar co-ordinates? Lets make a few observations.\n",
    "\n",
    "1. clearly, no matter what co-ordinates we use $\\int dF =1$. In other words, no matter how we add slivers, the probabilities in these slivers must add to 1.\n",
    "2. one can think of cartesian co-ordinate slivers being histogram skyscrapers on a regular grid. In polar co-ordinates the slivers are arranged radially\n",
    "3. We have in terms of the pdfs:\n",
    "\n",
    "$$\\int g(x,y)dx dy  = \\int  f(r, \\theta)dr d\\theta = \\int  f_r(r)\\, f_t(\\theta) dr d\\theta$$\n",
    "\n",
    "And we have seen:\n",
    "\n",
    "$f_{polar}(\\theta) =Unif(0, 2\\pi)$\n",
    "\n",
    "We might be tempted to think that $f_r(r) = e^{-r^2/2}$. But this is not correct on two counts. First, its not even dimensionally right. Secondly, then you transform the $dxdy$ to polar , you get $rdrd\\theta$.\n",
    "\n",
    "What this means is that :\n",
    "\n",
    "$$f_r(r) = re^{-r^2/2}$$\n",
    "\n",
    "This is called the Raleigh distribution.\n",
    "\n",
    "And now you can see how the transformation $s=r^2$ gives us an exponential in s. And this is why we could take $R^2 \\sim Exp(1/2)$ without much ado..the exponential happily normalizes out to 1 due to the $r$ multiplying the exponential in the pdf above.\n",
    "\n",
    "More generally, if $z=g(x)$ so that $x=g^{-1}(z)$, let us define the Jacobian $J(z)$ of the transformation  $x=g^{-1}(z)$ as the partial derivatives matrix of the transformation.\n",
    "\n",
    "Then:\n",
    "\n",
    "$$f_Z(z) = f_X(g^{-1}(z)) \\times det(J(z))$$\n",
    "\n",
    "We can work this out with $z$ the polar co-ordinates and  $g^{-1}$ as $x=r\\,cos(\\theta)$ and $y=r\\,sin(\\theta)$, with $g$ as $r=\\sqrt{x^2 + y^2}$, $tan(\\theta) = y/x$.\n",
    "\n",
    "$$ J =  \\binom{cos(\\theta)\\:sin(\\theta)}{-r sin(\\theta)\\:r cos(\\theta)}$$\n",
    "\n",
    "whose determinant is  $r$,  and thus\n",
    "\n",
    "$$f_{R, \\Theta}(r, \\theta) = f_{X,Y}(r cos(\\theta), r sin(\\theta)) \\times r =  \\frac{1}{\\sqrt{2\\pi}} e^{-(r cos(\\theta))^2/2} \\times \\frac{1}{\\sqrt{2\\pi}} e^{-(r sin(\\theta))^2/2} = \\frac{1}{2\\pi} \\times e^{-r^2/2} \\times r$$."
   ]
  },
  {
   "cell_type": "code",
   "execution_count": null,
   "metadata": {
    "collapsed": true
   },
   "outputs": [],
   "source": []
  }
 ],
 "metadata": {
  "kernelspec": {
   "display_name": "Python 3",
   "language": "python",
   "name": "python3"
  },
  "language_info": {
   "codemirror_mode": {
    "name": "ipython",
    "version": 3
   },
   "file_extension": ".py",
   "mimetype": "text/x-python",
   "name": "python",
   "nbconvert_exporter": "python",
   "pygments_lexer": "ipython3",
   "version": "3.6.0"
  }
 },
 "nbformat": 4,
 "nbformat_minor": 2
}
