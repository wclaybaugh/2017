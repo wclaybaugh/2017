{
 "cells": [
  {
   "cell_type": "markdown",
   "metadata": {},
   "source": [
    "# Combinatoric optimization: choosing the best features\n",
    "\n",
    "##### Keywords: simulated annealing, proposal,  energy, optimization, global minimum,  combinatoric optimization, local search, local minimum"
   ]
  },
  {
   "cell_type": "code",
   "execution_count": 1,
   "metadata": {
    "collapsed": false,
    "hide": true
   },
   "outputs": [],
   "source": [
    "%matplotlib inline\n",
    "import numpy as np\n",
    "import scipy as sp\n",
    "import matplotlib.pyplot as plt\n",
    "import pandas as pd\n",
    "pd.set_option('display.width', 500)\n",
    "pd.set_option('display.max_columns', 100)\n",
    "pd.set_option('display.notebook_repr_html', True)\n",
    "import seaborn as sns\n",
    "sns.set_style(\"whitegrid\")\n",
    "sns.set_context(\"poster\")"
   ]
  },
  {
   "cell_type": "markdown",
   "metadata": {},
   "source": [
    "## Contents\n",
    "{:.no_toc}\n",
    "* \n",
    "{: toc}"
   ]
  },
  {
   "cell_type": "markdown",
   "metadata": {},
   "source": [
    "## Overview\n",
    "We want to predict baseball players' salaries via a linear model, but there are too many predictors to try the various combinations.\n",
    "\n",
    "Rather than turning to other techniques you may have heard of, we're going to find an optimal (or near-optimal) set of predictors via 1) random guessing and editing 2) simulated annealing."
   ]
  },
  {
   "cell_type": "markdown",
   "metadata": {},
   "source": [
    "## The data set\n",
    "\n",
    "(from Givens and Hoeting, which this discussion follows)\n",
    "\n",
    "```\n",
    "Source: Baseball data from M.R. Watnik (1998), \"Pay for Play: Are\n",
    "Baseball Salaries Based on Performance\", Journal of Statistics\n",
    "Education, Volume 6, number 2\n",
    "(http://www.amstat.org/publications/jse/v6n2/datasets.watnik.html)\n",
    "\n",
    "Description: Salaries in 1992 and 27 performance statistics for 337 baseball\n",
    "players (no pitchers) in 1991.\n",
    "\n",
    "\n",
    "salary ($1000s)\n",
    "average = batting average\n",
    "obp = on base percentage\n",
    "runs = runs scored\n",
    "hits\n",
    "doubles\n",
    "triples\n",
    "homeruns\n",
    "rbis = runs batted in\n",
    "walks\n",
    "sos = strike outs\n",
    "sbs = stolen bases\n",
    "errors\n",
    "freeagent (or eligible for free agency)\n",
    "arbitration (or eligible for arbitration)\n",
    "runsperso = runs/sos\n",
    "hitsperso = hits/sos\n",
    "hrsperso = homeruns/sos\n",
    "rbisperso = rbis/sos\n",
    "walksperso = walks/sos\n",
    "obppererror = obp/errors\n",
    "runspererror = runs/errors\n",
    "hitspererror = hits/errors\n",
    "hrspererror = homeruns/errors\n",
    "soserrors = sos*errors\n",
    "sbsobp = sbs*obp\n",
    "sbsruns = sbs*runs\n",
    "sbshits = sbs*hits\n",
    "```\n",
    "\n",
    "We wish to solve a prediction problem:  can we predict baseball player salaries from various statistics about the player? Specifically, we would like to choose an optimal set of features that would give us good predictions, and we want to be parsimonius about these features so that we dont overfit.\n",
    "\n",
    "With 27 features, there are possibly $2^{27}$ models! So there is no way we are going to be able to do an exhaustive search."
   ]
  },
  {
   "cell_type": "code",
   "execution_count": 2,
   "metadata": {
    "collapsed": false,
    "scrolled": true
   },
   "outputs": [
    {
     "data": {
      "text/html": [
       "<div>\n",
       "<table border=\"1\" class=\"dataframe\">\n",
       "  <thead>\n",
       "    <tr style=\"text-align: right;\">\n",
       "      <th></th>\n",
       "      <th>salary</th>\n",
       "      <th>average</th>\n",
       "      <th>obp</th>\n",
       "      <th>runs</th>\n",
       "      <th>hits</th>\n",
       "      <th>doubles</th>\n",
       "      <th>triples</th>\n",
       "      <th>homeruns</th>\n",
       "      <th>rbis</th>\n",
       "      <th>walks</th>\n",
       "      <th>sos</th>\n",
       "      <th>sbs</th>\n",
       "      <th>errors</th>\n",
       "      <th>freeagent</th>\n",
       "      <th>arbitration</th>\n",
       "      <th>runsperso</th>\n",
       "      <th>hitsperso</th>\n",
       "      <th>hrsperso</th>\n",
       "      <th>rbisperso</th>\n",
       "      <th>walksperso</th>\n",
       "      <th>obppererror</th>\n",
       "      <th>runspererror</th>\n",
       "      <th>hitspererror</th>\n",
       "      <th>hrspererror</th>\n",
       "      <th>soserrors</th>\n",
       "      <th>sbsobp</th>\n",
       "      <th>sbsruns</th>\n",
       "      <th>sbshits</th>\n",
       "    </tr>\n",
       "  </thead>\n",
       "  <tbody>\n",
       "    <tr>\n",
       "      <th>0</th>\n",
       "      <td>3300</td>\n",
       "      <td>0.272</td>\n",
       "      <td>0.302</td>\n",
       "      <td>69</td>\n",
       "      <td>153</td>\n",
       "      <td>21</td>\n",
       "      <td>4</td>\n",
       "      <td>31</td>\n",
       "      <td>104</td>\n",
       "      <td>22</td>\n",
       "      <td>80</td>\n",
       "      <td>4</td>\n",
       "      <td>4</td>\n",
       "      <td>1</td>\n",
       "      <td>0</td>\n",
       "      <td>0.8625</td>\n",
       "      <td>1.9125</td>\n",
       "      <td>0.3875</td>\n",
       "      <td>1.3000</td>\n",
       "      <td>0.2750</td>\n",
       "      <td>0.0755</td>\n",
       "      <td>17.2500</td>\n",
       "      <td>38.2500</td>\n",
       "      <td>7.7500</td>\n",
       "      <td>320</td>\n",
       "      <td>1.208</td>\n",
       "      <td>276</td>\n",
       "      <td>612</td>\n",
       "    </tr>\n",
       "    <tr>\n",
       "      <th>1</th>\n",
       "      <td>2600</td>\n",
       "      <td>0.269</td>\n",
       "      <td>0.335</td>\n",
       "      <td>58</td>\n",
       "      <td>111</td>\n",
       "      <td>17</td>\n",
       "      <td>2</td>\n",
       "      <td>18</td>\n",
       "      <td>66</td>\n",
       "      <td>39</td>\n",
       "      <td>69</td>\n",
       "      <td>0</td>\n",
       "      <td>4</td>\n",
       "      <td>1</td>\n",
       "      <td>0</td>\n",
       "      <td>0.8406</td>\n",
       "      <td>1.6087</td>\n",
       "      <td>0.2609</td>\n",
       "      <td>0.9565</td>\n",
       "      <td>0.5652</td>\n",
       "      <td>0.0838</td>\n",
       "      <td>14.5000</td>\n",
       "      <td>27.7500</td>\n",
       "      <td>4.5000</td>\n",
       "      <td>276</td>\n",
       "      <td>0.000</td>\n",
       "      <td>0</td>\n",
       "      <td>0</td>\n",
       "    </tr>\n",
       "    <tr>\n",
       "      <th>2</th>\n",
       "      <td>2500</td>\n",
       "      <td>0.249</td>\n",
       "      <td>0.337</td>\n",
       "      <td>54</td>\n",
       "      <td>115</td>\n",
       "      <td>15</td>\n",
       "      <td>1</td>\n",
       "      <td>17</td>\n",
       "      <td>73</td>\n",
       "      <td>63</td>\n",
       "      <td>116</td>\n",
       "      <td>6</td>\n",
       "      <td>6</td>\n",
       "      <td>1</td>\n",
       "      <td>0</td>\n",
       "      <td>0.4655</td>\n",
       "      <td>0.9914</td>\n",
       "      <td>0.1466</td>\n",
       "      <td>0.6293</td>\n",
       "      <td>0.5431</td>\n",
       "      <td>0.0562</td>\n",
       "      <td>9.0000</td>\n",
       "      <td>19.1667</td>\n",
       "      <td>2.8333</td>\n",
       "      <td>696</td>\n",
       "      <td>2.022</td>\n",
       "      <td>324</td>\n",
       "      <td>690</td>\n",
       "    </tr>\n",
       "    <tr>\n",
       "      <th>3</th>\n",
       "      <td>2475</td>\n",
       "      <td>0.260</td>\n",
       "      <td>0.292</td>\n",
       "      <td>59</td>\n",
       "      <td>128</td>\n",
       "      <td>22</td>\n",
       "      <td>7</td>\n",
       "      <td>12</td>\n",
       "      <td>50</td>\n",
       "      <td>23</td>\n",
       "      <td>64</td>\n",
       "      <td>21</td>\n",
       "      <td>22</td>\n",
       "      <td>0</td>\n",
       "      <td>1</td>\n",
       "      <td>0.9219</td>\n",
       "      <td>2.0000</td>\n",
       "      <td>0.1875</td>\n",
       "      <td>0.7812</td>\n",
       "      <td>0.3594</td>\n",
       "      <td>0.0133</td>\n",
       "      <td>2.6818</td>\n",
       "      <td>5.8182</td>\n",
       "      <td>0.5455</td>\n",
       "      <td>1408</td>\n",
       "      <td>6.132</td>\n",
       "      <td>1239</td>\n",
       "      <td>2688</td>\n",
       "    </tr>\n",
       "    <tr>\n",
       "      <th>4</th>\n",
       "      <td>2313</td>\n",
       "      <td>0.273</td>\n",
       "      <td>0.346</td>\n",
       "      <td>87</td>\n",
       "      <td>169</td>\n",
       "      <td>28</td>\n",
       "      <td>5</td>\n",
       "      <td>8</td>\n",
       "      <td>58</td>\n",
       "      <td>70</td>\n",
       "      <td>53</td>\n",
       "      <td>3</td>\n",
       "      <td>9</td>\n",
       "      <td>0</td>\n",
       "      <td>1</td>\n",
       "      <td>1.6415</td>\n",
       "      <td>3.1887</td>\n",
       "      <td>0.1509</td>\n",
       "      <td>1.0943</td>\n",
       "      <td>1.3208</td>\n",
       "      <td>0.0384</td>\n",
       "      <td>9.6667</td>\n",
       "      <td>18.7778</td>\n",
       "      <td>0.8889</td>\n",
       "      <td>477</td>\n",
       "      <td>1.038</td>\n",
       "      <td>261</td>\n",
       "      <td>507</td>\n",
       "    </tr>\n",
       "  </tbody>\n",
       "</table>\n",
       "</div>"
      ],
      "text/plain": [
       "   salary  average    obp  runs  hits  doubles  triples  homeruns  rbis  walks  sos  sbs  errors  freeagent  arbitration  runsperso  hitsperso  hrsperso  rbisperso  walksperso  obppererror  runspererror  hitspererror  hrspererror  soserrors  sbsobp  sbsruns  sbshits\n",
       "0    3300    0.272  0.302    69   153       21        4        31   104     22   80    4       4          1            0     0.8625     1.9125    0.3875     1.3000      0.2750       0.0755       17.2500       38.2500       7.7500        320   1.208      276      612\n",
       "1    2600    0.269  0.335    58   111       17        2        18    66     39   69    0       4          1            0     0.8406     1.6087    0.2609     0.9565      0.5652       0.0838       14.5000       27.7500       4.5000        276   0.000        0        0\n",
       "2    2500    0.249  0.337    54   115       15        1        17    73     63  116    6       6          1            0     0.4655     0.9914    0.1466     0.6293      0.5431       0.0562        9.0000       19.1667       2.8333        696   2.022      324      690\n",
       "3    2475    0.260  0.292    59   128       22        7        12    50     23   64   21      22          0            1     0.9219     2.0000    0.1875     0.7812      0.3594       0.0133        2.6818        5.8182       0.5455       1408   6.132     1239     2688\n",
       "4    2313    0.273  0.346    87   169       28        5         8    58     70   53    3       9          0            1     1.6415     3.1887    0.1509     1.0943      1.3208       0.0384        9.6667       18.7778       0.8889        477   1.038      261      507"
      ]
     },
     "execution_count": 2,
     "metadata": {},
     "output_type": "execute_result"
    }
   ],
   "source": [
    "baseball = pd.read_table(\"data/baseball.dat\", sep='\\s+')\n",
    "baseball.head()"
   ]
  },
  {
   "cell_type": "markdown",
   "metadata": {},
   "source": [
    "Our dependent variable (salary) is highly skewed, so we log transform it."
   ]
  },
  {
   "cell_type": "code",
   "execution_count": 3,
   "metadata": {
    "collapsed": false,
    "scrolled": false
   },
   "outputs": [
    {
     "data": {
      "image/png": "[encoded data removed]",
      "text/plain": [
       "<matplotlib.figure.Figure at 0x10f97baff60>"
      ]
     },
     "metadata": {},
     "output_type": "display_data"
    }
   ],
   "source": [
    "#before\n",
    "plt.subplot(121)\n",
    "baseball.salary.hist(bins=30);\n",
    "plt.xlabel(\"salary\")\n",
    "plt.ylabel(\"count\")\n",
    "\n",
    "#transform\n",
    "predictors = baseball.copy()\n",
    "logsalary = predictors.pop('salary').apply(np.log)\n",
    "nrows,ncols = predictors.shape\n",
    "\n",
    "#after\n",
    "plt.subplot(122)\n",
    "plt.hist(logsalary)\n",
    "plt.xlabel(\"logsalary\")\n",
    "plt.ylabel(\"count\");\n"
   ]
  },
  {
   "cell_type": "markdown",
   "metadata": {},
   "source": [
    "We'll trust that the other variables are proper enough for this example (which is more about the annealing than the regression)"
   ]
  },
  {
   "cell_type": "markdown",
   "metadata": {},
   "source": [
    "## Loss function: AIC\n",
    "We need to measure the performance of our linear regressions. We could use a validation set or corss validation performance, but these are more costly than computing AIC, and we want more practice with these in-sample measures anyway.\n",
    "\n",
    "Note that our final model will be overfit no matter what we do; we're explicitly optimizing against a performance criteria. Even with a validation set, we'd trying enough models that the winner would be overfit to the validation set.\n",
    "\n",
    "#### AIC formula\n",
    "The AIC for a model is the training deviance plus twice the number of parameters.\n",
    "\n",
    "From our prior noteboks, $AIC = D_{train} + 2p$ where the deviance is defined as: $D(q) = -2 \\sum_i log(q_i)$. That is, -2 times the log likelihood of the model.\n",
    "\n",
    "The overall likelihood for a linear regression is the probability of seeing the Y values, given the fitted model and the X values (regression is non-generative; the X is taken as known)\n",
    "\n",
    "$$L(\\mu,\\sigma^2) = P(Y=y|X=x,\\mu,\\sigma) = \\prod_i \\frac{1}{\\sqrt{2\\pi\\sigma^2}} e^{- \\frac{(\\hat{y_i}-y_i)^2}{2\\sigma^2}  }$$\n",
    "\n",
    "$$l(\\mu,\\sigma^2) = log\\,P(Y=y|X=x,\\mu,\\sigma) = \\sum_i \\left[log\\left(\\frac{1}{\\sqrt{2\\pi\\sigma^2}}\\right) - \\left(\\frac{(\\hat{y_i}-y_i)^2}{2\\sigma^2}\\right)\\right]\\\\\n",
    "=N\\frac{-1}{2}\\,log\\left(2\\pi\\sigma_{MLE}^2\\right) - \\sum_i \\left(\\frac{(\\hat{y_i}-y_i)^2}{2\\sigma^2}\\right)\\\\\n",
    "$$\n",
    "\n",
    "Evaluated at the MLE, $\\sigma_{MLE}=\\frac{SSE}{N}$, so the sum on the right is just N/2\n",
    "\n",
    "$$AIC = -2\\left[\\frac{-N}{2}\\,log\\left(2\\pi\\frac{SSE}{N}\\right) - \\frac{N}{2}\\right] + 2p$$\n",
    "\n",
    "Thus:\n",
    "\n",
    "$$AIC = Nlog\\left(\\frac{SSE}{N}\\right) + 2p + constant$$"
   ]
  },
  {
   "cell_type": "code",
   "execution_count": 4,
   "metadata": {
    "collapsed": true
   },
   "outputs": [],
   "source": [
    "from sklearn.linear_model import LinearRegression\n",
    "aic = lambda g, X, y: len(y) * np.log(sum((g.predict(X) - y)**2)/len(y)) + 2*g.rank_"
   ]
  },
  {
   "cell_type": "markdown",
   "metadata": {},
   "source": [
    "## First Try: Local Search with random starts\n",
    "\n",
    "The code for this part is taken from Chris Fonnesbeck's Bios 8366 Lecture Notes."
   ]
  },
  {
   "cell_type": "markdown",
   "metadata": {},
   "source": [
    "Combinatoric  problems are hard, so we turn to **Heuristics**. These have no guarantee of a global minimum, but do reasonably well, especially if you run them multiple times and try different starts.\n",
    "\n",
    "The basic idea is to start with some solution, and perturb it a bit to get another solution in the **\"local\"** neighborhood of the initial solution. The point here is to not be exhaustive, but rather, to limit the search.\n",
    "\n",
    "We want to start with different randomly chosen solutions, since local search can get trapped in local minima.\n",
    "\n",
    "Here we start at 5 different initial solutions as to which features to choose, and run the local search algorithm for 15 iterations, starting from each of these 5 initial solutions."
   ]
  },
  {
   "cell_type": "code",
   "execution_count": 5,
   "metadata": {
    "collapsed": false
   },
   "outputs": [
    {
     "data": {
      "text/plain": [
       "array([[False,  True,  True,  True, False,  True, False,  True,  True,\n",
       "        False, False,  True,  True,  True, False, False, False, False,\n",
       "         True, False, False,  True, False,  True,  True,  True,  True],\n",
       "       [ True,  True, False, False,  True, False, False,  True, False,\n",
       "        False,  True, False, False,  True,  True, False,  True,  True,\n",
       "        False,  True, False, False,  True,  True,  True,  True,  True],\n",
       "       [ True, False, False, False,  True, False, False, False,  True,\n",
       "        False, False, False,  True,  True,  True, False, False, False,\n",
       "         True,  True, False, False, False, False,  True, False,  True],\n",
       "       [False,  True,  True,  True, False,  True,  True,  True, False,\n",
       "        False,  True,  True,  True, False,  True, False, False,  True,\n",
       "         True,  True,  True,  True, False, False, False, False,  True],\n",
       "       [False, False, False,  True, False,  True, False, False,  True,\n",
       "         True,  True, False, False,  True,  True, False, False,  True,\n",
       "        False,  True, False, False,  True,  True,  True,  True, False]], dtype=bool)"
      ]
     },
     "execution_count": 5,
     "metadata": {},
     "output_type": "execute_result"
    }
   ],
   "source": [
    "nstarts = 5\n",
    "iterations = 15\n",
    "runs = np.random.binomial(1, 0.5, ncols*nstarts).reshape((nstarts,ncols)).astype(bool)\n",
    "runs"
   ]
  },
  {
   "cell_type": "markdown",
   "metadata": {},
   "source": [
    "Here is our algorithm.\n",
    "\n",
    "1. For each start,for each iteration\n",
    "    1. with our initial predictors we fit for the regression and calculate the aic\n",
    "    2. we now get the 1-change neighborhhod by:\n",
    "        1. systematically flipping each column and calculating the aic\n",
    "        2. find the minimum aic for the process and record the predictors\n",
    "    3. go to A and repeat for the latest  predictors\n",
    "    4. record the solution for this starting point and go to 1."
   ]
  },
  {
   "cell_type": "code",
   "execution_count": 6,
   "metadata": {
    "collapsed": false
   },
   "outputs": [],
   "source": [
    "from sklearn.linear_model import LinearRegression\n",
    "\n",
    "runs_aic = np.empty((nstarts, iterations))\n",
    "\n",
    "for i in range(nstarts):\n",
    "    \n",
    "    run_current = runs[i]\n",
    "    \n",
    "    for j in range(iterations):\n",
    "        \n",
    "        # Extract current set of predictors\n",
    "        run_vars = predictors[predictors.columns[run_current]]\n",
    "        g = LinearRegression().fit(X=run_vars, y=logsalary)\n",
    "        run_aic = aic(g, run_vars, logsalary)\n",
    "        run_next = run_current\n",
    "        \n",
    "        # Test all models in 1-neighborhood and select lowest AIC\n",
    "        for k in range(ncols):\n",
    "            run_step = run_current.copy()\n",
    "            run_step[k] = not run_current[k]\n",
    "            run_vars = predictors[predictors.columns[run_step]]\n",
    "            g = LinearRegression().fit(X=run_vars, y=logsalary)\n",
    "            step_aic = aic(g, run_vars, logsalary)\n",
    "            if step_aic < run_aic:\n",
    "                run_next = run_step.copy()\n",
    "                run_aic = step_aic\n",
    "            \n",
    "        run_current = run_next.copy()\n",
    "        runs_aic[i,j] = run_aic\n",
    "        \n",
    "    runs[i] = run_current\n",
    "                "
   ]
  },
  {
   "cell_type": "markdown",
   "metadata": {},
   "source": [
    "These are the final variable selections for our runs."
   ]
  },
  {
   "cell_type": "code",
   "execution_count": 7,
   "metadata": {
    "collapsed": false
   },
   "outputs": [
    {
     "data": {
      "text/plain": [
       "array([[False, False,  True, False, False,  True, False,  True, False,\n",
       "         True, False, False,  True,  True, False, False, False, False,\n",
       "        False,  True,  True,  True, False,  True,  True, False, False],\n",
       "       [ True, False,  True, False, False,  True, False,  True, False,\n",
       "         True, False, False,  True,  True,  True,  True, False, False,\n",
       "        False, False, False, False, False,  True,  True,  True, False],\n",
       "       [False, False,  True, False, False, False, False,  True,  True,\n",
       "         True, False, False,  True,  True, False, False, False, False,\n",
       "         True,  True,  True,  True, False, False, False, False, False],\n",
       "       [False, False,  True, False, False,  True, False,  True, False,\n",
       "         True, False,  True,  True,  True, False, False, False, False,\n",
       "        False,  True,  True,  True, False, False, False, False, False],\n",
       "       [False,  True,  True, False, False,  True, False,  True, False,\n",
       "         True, False, False,  True,  True,  True,  True, False, False,\n",
       "        False, False, False, False, False,  True,  True,  True, False]], dtype=bool)"
      ]
     },
     "execution_count": 7,
     "metadata": {},
     "output_type": "execute_result"
    }
   ],
   "source": [
    "runs"
   ]
  },
  {
   "cell_type": "markdown",
   "metadata": {},
   "source": [
    "We can plot how the aic evolves in the 5 random starts"
   ]
  },
  {
   "cell_type": "code",
   "execution_count": 8,
   "metadata": {
    "collapsed": false
   },
   "outputs": [
    {
     "data": {
      "text/plain": [
       "<matplotlib.text.Text at 0x10f98b48f28>"
      ]
     },
     "execution_count": 8,
     "metadata": {},
     "output_type": "execute_result"
    },
    {
     "data": {
      "image/png": "[encoded data removed]",
      "text/plain": [
       "<matplotlib.figure.Figure at 0x10f986f1cc0>"
      ]
     },
     "metadata": {},
     "output_type": "display_data"
    }
   ],
   "source": [
    "pd.DataFrame(runs_aic).T.plot(grid=False)\n",
    "plt.xlabel('iteration')\n",
    "#plt.ylim([-430, -380])"
   ]
  },
  {
   "cell_type": "code",
   "execution_count": 9,
   "metadata": {
    "collapsed": false
   },
   "outputs": [
    {
     "name": "stdout",
     "output_type": "stream",
     "text": [
      "0 -418.611888647\n",
      "1 -420.9420793\n",
      "2 -417.519908564\n",
      "3 -418.603019838\n",
      "4 -420.947211437\n"
     ]
    }
   ],
   "source": [
    "for i in range(5):\n",
    "    print(i, np.min(runs_aic[i]))"
   ]
  },
  {
   "cell_type": "markdown",
   "metadata": {},
   "source": [
    "To see which features are really important, see how many of the 5 starts solutions do they appear in..."
   ]
  },
  {
   "cell_type": "code",
   "execution_count": 10,
   "metadata": {
    "collapsed": false
   },
   "outputs": [
    {
     "data": {
      "text/plain": [
       "arbitration     5\n",
       "sos             5\n",
       "runs            5\n",
       "rbis            5\n",
       "freeagent       5\n",
       "triples         4\n",
       "sbsobp          3\n",
       "soserrors       3\n",
       "hitspererror    3\n",
       "runspererror    3\n",
       "obppererror     3\n",
       "hitsperso       2\n",
       "runsperso       2\n",
       "sbsruns         2\n",
       "obp             1\n",
       "walks           1\n",
       "average         1\n",
       "errors          1\n",
       "walksperso      1\n",
       "sbs             0\n",
       "hrsperso        0\n",
       "homeruns        0\n",
       "rbisperso       0\n",
       "doubles         0\n",
       "hits            0\n",
       "hrspererror     0\n",
       "sbshits         0\n",
       "dtype: int32"
      ]
     },
     "execution_count": 10,
     "metadata": {},
     "output_type": "execute_result"
    }
   ],
   "source": [
    "pd.Series(runs.sum(0), index=predictors.columns).sort_values(ascending=False)"
   ]
  },
  {
   "cell_type": "markdown",
   "metadata": {},
   "source": [
    "And we can also query what the use of features in the final solutions was..."
   ]
  },
  {
   "cell_type": "code",
   "execution_count": 11,
   "metadata": {
    "collapsed": false
   },
   "outputs": [
    {
     "name": "stdout",
     "output_type": "stream",
     "text": [
      "(array([ 2,  5,  7,  9, 12, 13, 19, 20, 21, 23, 24], dtype=int64),)\n",
      "(array([ 0,  2,  5,  7,  9, 12, 13, 14, 15, 23, 24, 25], dtype=int64),)\n",
      "(array([ 2,  7,  8,  9, 12, 13, 18, 19, 20, 21], dtype=int64),)\n",
      "(array([ 2,  5,  7,  9, 11, 12, 13, 19, 20, 21], dtype=int64),)\n",
      "(array([ 1,  2,  5,  7,  9, 12, 13, 14, 15, 23, 24, 25], dtype=int64),)\n"
     ]
    }
   ],
   "source": [
    "for i in range(nstarts):\n",
    "    print(np.where(runs[i]==True))"
   ]
  },
  {
   "cell_type": "markdown",
   "metadata": {},
   "source": [
    "## Second Try: Simulated Annealing"
   ]
  },
  {
   "cell_type": "code",
   "execution_count": 12,
   "metadata": {
    "collapsed": true
   },
   "outputs": [],
   "source": [
    "bbinits=dict(solution=np.random.binomial(1, 0.5, ncols).astype(bool),\n",
    "               length=100, T=100)"
   ]
  },
  {
   "cell_type": "code",
   "execution_count": 13,
   "metadata": {
    "collapsed": true
   },
   "outputs": [],
   "source": [
    "def efunc(solution):\n",
    "    solution_vars = predictors[predictors.columns[solution]]\n",
    "    g = LinearRegression().fit(X=solution_vars, y=logsalary)\n",
    "    return aic(g, solution_vars, logsalary)\n",
    "def pfunc(solution):\n",
    "    flip = np.random.randint(0, ncols)\n",
    "    solution_new = solution.copy()\n",
    "    solution_new[flip] = not solution_new[flip]\n",
    "    return solution_new"
   ]
  },
  {
   "cell_type": "code",
   "execution_count": 14,
   "metadata": {
    "collapsed": false
   },
   "outputs": [],
   "source": [
    "def sa(energyfunc, initials, epochs, tempfunc, iterfunc, proposalfunc):\n",
    "    accumulator=[]\n",
    "    best_solution = old_solution = initials['solution']\n",
    "    T=initials['T']\n",
    "    length=initials['length']\n",
    "    best_energy = old_energy = energyfunc(old_solution)\n",
    "    accepted=0\n",
    "    total=0\n",
    "    for index in range(epochs):\n",
    "        print(\"Epoch\", index)\n",
    "        if index > 0:\n",
    "            T = tempfunc(T)\n",
    "            length=iterfunc(length)\n",
    "        print(\"Temperature\", T, \"Length\", length)\n",
    "        for it in range(length):\n",
    "            total+=1\n",
    "            new_solution = proposalfunc(old_solution)\n",
    "            new_energy = energyfunc(new_solution)\n",
    "            \n",
    "            alpha = min(1, np.exp((old_energy - new_energy)/T))\n",
    "            if ((new_energy < old_energy) or (np.random.uniform() < alpha)):\n",
    "                # Accept proposed solution\n",
    "                accepted+=1\n",
    "                accumulator.append((T, new_solution, new_energy))\n",
    "                if new_energy < best_energy:\n",
    "                    # Replace previous best with this one\n",
    "                    best_energy = new_energy\n",
    "                    best_solution = new_solution\n",
    "                    best_index=total\n",
    "                    best_temp=T\n",
    "                old_energy = new_energy\n",
    "                old_solution = new_solution\n",
    "            else:\n",
    "                # Revert solution\n",
    "                accumulator.append((T, old_solution, old_energy))\n",
    "    \n",
    "    best_meta=dict(index=best_index, temp=best_temp)\n",
    "    print(\"frac accepted\", accepted/total, \"total iterations\", total, 'bmeta', best_meta)\n",
    "    return best_meta, best_solution, best_energy, accumulator"
   ]
  },
  {
   "cell_type": "code",
   "execution_count": 15,
   "metadata": {
    "collapsed": false
   },
   "outputs": [
    {
     "name": "stdout",
     "output_type": "stream",
     "text": [
      "Epoch 0\n",
      "Temperature 100 Length 100\n",
      "Epoch 1\n",
      "Temperature 80.0 Length 120\n",
      "Epoch 2\n",
      "Temperature 64.0 Length 144\n",
      "Epoch 3\n",
      "Temperature 51.2 Length 173\n",
      "Epoch 4\n",
      "Temperature 40.96000000000001 Length 208\n",
      "Epoch 5\n",
      "Temperature 32.76800000000001 Length 250\n",
      "Epoch 6\n",
      "Temperature 26.21440000000001 Length 300\n",
      "Epoch 7\n",
      "Temperature 20.97152000000001 Length 360\n",
      "Epoch 8\n",
      "Temperature 16.777216000000006 Length 432\n",
      "Epoch 9\n",
      "Temperature 13.421772800000006 Length 519\n",
      "Epoch 10\n",
      "Temperature 10.737418240000006 Length 623\n",
      "Epoch 11\n",
      "Temperature 8.589934592000004 Length 748\n",
      "Epoch 12\n",
      "Temperature 6.871947673600004 Length 898\n",
      "Epoch 13\n",
      "Temperature 5.497558138880003 Length 1078\n",
      "Epoch 14\n",
      "Temperature 4.398046511104003 Length 1294\n",
      "Epoch 15\n",
      "Temperature 3.5184372088832023 Length 1553\n",
      "Epoch 16\n",
      "Temperature 2.814749767106562 Length 1864\n",
      "Epoch 17\n",
      "Temperature 2.25179981368525 Length 2237\n",
      "Epoch 18\n",
      "Temperature 1.8014398509482001 Length 2685\n",
      "Epoch 19\n",
      "Temperature 1.4411518807585602 Length 3222\n",
      "Epoch 20\n",
      "Temperature 1.1529215046068482 Length 3867\n",
      "Epoch 21\n",
      "Temperature 0.9223372036854786 Length 4641\n",
      "Epoch 22\n",
      "Temperature 0.7378697629483829 Length 5570\n",
      "Epoch 23\n",
      "Temperature 0.5902958103587064 Length 6684\n",
      "Epoch 24\n",
      "Temperature 0.4722366482869651 Length 8021\n",
      "frac accepted 0.37156184992960856 total iterations 47591 bmeta {'index': 18187, 'temp': 1.4411518807585602}\n"
     ]
    }
   ],
   "source": [
    "import math\n",
    "tf2 = lambda temp: 0.8*temp\n",
    "itf2 = lambda length: math.ceil(1.2*length)\n",
    "bb_bmeta, bb_bs, bb_be, bb_out = sa(efunc, bbinits, 25, tf2, itf2, pfunc)"
   ]
  },
  {
   "cell_type": "code",
   "execution_count": 16,
   "metadata": {
    "collapsed": false
   },
   "outputs": [
    {
     "data": {
      "text/plain": [
       "({'index': 18187, 'temp': 1.4411518807585602},\n",
       " array([False,  True,  True, False, False,  True, False,  True, False,\n",
       "         True, False, False,  True,  True,  True,  True, False, False,\n",
       "        False, False, False, False, False,  True,  True,  True, False], dtype=bool),\n",
       " -420.94721143715458)"
      ]
     },
     "execution_count": 16,
     "metadata": {},
     "output_type": "execute_result"
    }
   ],
   "source": [
    "bb_bmeta, bb_bs, bb_be"
   ]
  },
  {
   "cell_type": "code",
   "execution_count": 17,
   "metadata": {
    "collapsed": false
   },
   "outputs": [
    {
     "name": "stdout",
     "output_type": "stream",
     "text": [
      "Best AIC: -420.9472114371546\n",
      "Best solution: (array([ 1,  2,  5,  7,  9, 12, 13, 14, 15, 23, 24, 25], dtype=int64),)\n",
      "Discovered at iteration 18186\n"
     ]
    },
    {
     "data": {
      "image/png": "[encoded data removed]",
      "text/plain": [
       "<matplotlib.figure.Figure at 0x10f9805f3c8>"
      ]
     },
     "metadata": {},
     "output_type": "display_data"
    }
   ],
   "source": [
    "aic_values = [e[2] for e in bb_out]\n",
    "plt.plot(aic_values)\n",
    "plt.xlim(0, len(aic_values))\n",
    "plt.xlabel('Iteration')\n",
    "plt.ylabel('AIC')\n",
    "print('Best AIC: {0}\\nBest solution: {1}\\nDiscovered at iteration {2}'.format(bb_be, \n",
    "            np.where(bb_bs==True),\n",
    "            np.where(aic_values==bb_be)[0][0]))\n",
    "plt.plot(np.where(aic_values==bb_be)[0][0], bb_be, 'ro');"
   ]
  },
  {
   "cell_type": "markdown",
   "metadata": {},
   "source": [
    "So the Simultaed Annealing found a model with AIC -420, about what we found by picking a feature vector at random and twiddling with it."
   ]
  },
  {
   "cell_type": "code",
   "execution_count": null,
   "metadata": {
    "collapsed": true
   },
   "outputs": [],
   "source": []
  }
 ],
 "metadata": {
  "anaconda-cloud": {},
  "celltoolbar": "Edit Metadata",
  "kernelspec": {
   "display_name": "Python 3",
   "language": "python",
   "name": "python3"
  },
  "language_info": {
   "codemirror_mode": {
    "name": "ipython",
    "version": 3
   },
   "file_extension": ".py",
   "mimetype": "text/x-python",
   "name": "python",
   "nbconvert_exporter": "python",
   "pygments_lexer": "ipython3",
   "version": "3.6.0"
  }
 },
 "nbformat": 4,
 "nbformat_minor": 0
}
