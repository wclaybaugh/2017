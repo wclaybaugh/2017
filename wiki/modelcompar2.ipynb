{
 "cells": [
  {
   "cell_type": "markdown",
   "metadata": {},
   "source": [
    "# Model Comparison continued\n",
    "\n",
    "##### Keywords: kl-divergence, deviance, AIC, DIC, WAIC, model-comparison, model averaging, in-sample, cross-validation, empirical bayes, LOOCV"
   ]
  },
  {
   "cell_type": "code",
   "execution_count": 2,
   "metadata": {
    "collapsed": false
   },
   "outputs": [],
   "source": [
    "%matplotlib inline\n",
    "import numpy as np\n",
    "import scipy as sp\n",
    "import matplotlib as mpl\n",
    "import matplotlib.cm as cm\n",
    "import matplotlib.pyplot as plt\n",
    "import pandas as pd\n",
    "pd.set_option('display.width', 500)\n",
    "pd.set_option('display.max_columns', 100)\n",
    "pd.set_option('display.notebook_repr_html', True)\n",
    "import seaborn as sns\n",
    "sns.set_style(\"whitegrid\")\n",
    "sns.set_context(\"poster\")\n",
    "import pymc3 as pm"
   ]
  },
  {
   "cell_type": "markdown",
   "metadata": {},
   "source": [
    "## Generating a data set\n",
    "\n",
    "We'll generate a minimal noise data set, from a quadratic model, and we'll then try and fit this model with polynomials of different degrees. The idea is to see what polynomial order is from different model comparison measures."
   ]
  },
  {
   "cell_type": "code",
   "execution_count": 3,
   "metadata": {
    "collapsed": false
   },
   "outputs": [],
   "source": [
    "x = np.random.uniform(size=40)\n",
    "mu = 15 - 4*x + 3*x**2\n",
    "sigma=0.2\n",
    "y = np.random.normal(mu,sigma)"
   ]
  },
  {
   "cell_type": "code",
   "execution_count": 4,
   "metadata": {
    "collapsed": false
   },
   "outputs": [
    {
     "data": {
      "text/plain": [
       "[<matplotlib.lines.Line2D at 0x10f7bcc18>]"
      ]
     },
     "execution_count": 4,
     "metadata": {},
     "output_type": "execute_result"
    },
    {
     "data": {
      "image/png": "[encoded data removed]",
      "text/plain": [
       "<matplotlib.figure.Figure at 0x10f7bcbe0>"
      ]
     },
     "metadata": {},
     "output_type": "display_data"
    }
   ],
   "source": [
    "plt.plot(x,y,'o')\n",
    "plt.plot(x,mu,'.')"
   ]
  },
  {
   "cell_type": "markdown",
   "metadata": {},
   "source": [
    "### Train-test split\n",
    "\n",
    "We create a 50-50 train test split. We'd like to keep aside a test set so that we can see how quantities behave on this set."
   ]
  },
  {
   "cell_type": "code",
   "execution_count": 5,
   "metadata": {
    "collapsed": false
   },
   "outputs": [],
   "source": [
    "from sklearn.cross_validation import train_test_split"
   ]
  },
  {
   "cell_type": "code",
   "execution_count": 6,
   "metadata": {
    "collapsed": false
   },
   "outputs": [],
   "source": [
    "itrain, itest = train_test_split(range(40), train_size=20)"
   ]
  },
  {
   "cell_type": "markdown",
   "metadata": {},
   "source": [
    "We'll center the data"
   ]
  },
  {
   "cell_type": "code",
   "execution_count": 7,
   "metadata": {
    "collapsed": true
   },
   "outputs": [],
   "source": [
    "x = x - x.mean()"
   ]
  },
  {
   "cell_type": "code",
   "execution_count": 8,
   "metadata": {
    "collapsed": true
   },
   "outputs": [],
   "source": [
    "xtrain=x[itrain]\n",
    "ytrain=y[itrain]\n",
    "xtest=x[itest]\n",
    "ytest=y[itest]"
   ]
  },
  {
   "cell_type": "code",
   "execution_count": 9,
   "metadata": {
    "collapsed": true
   },
   "outputs": [],
   "source": [
    "ridge = 3"
   ]
  },
  {
   "cell_type": "markdown",
   "metadata": {},
   "source": [
    "We'll use `scikit-learn` to construct polynomial features:"
   ]
  },
  {
   "cell_type": "code",
   "execution_count": 10,
   "metadata": {
    "collapsed": false
   },
   "outputs": [],
   "source": [
    "from sklearn.preprocessing import PolynomialFeatures\n",
    "import theano.tensor as T"
   ]
  },
  {
   "cell_type": "markdown",
   "metadata": {},
   "source": [
    "## Simulating an ensemble of models\n",
    "\n",
    "Now imagine we dont know what generated the data and go to find out:"
   ]
  },
  {
   "cell_type": "code",
   "execution_count": 14,
   "metadata": {
    "collapsed": false
   },
   "outputs": [
    {
     "name": "stdout",
     "output_type": "stream",
     "text": [
      "Optimization terminated successfully.\n",
      "         Current function value: 13.018754\n",
      "         Iterations: 2\n",
      "         Function evaluations: 5\n",
      "         Gradient evaluations: 5\n"
     ]
    },
    {
     "name": "stderr",
     "output_type": "stream",
     "text": [
      "100%|██████████| 5000/5000 [00:04<00:00, 1214.50it/s]  | 115/5000 [00:00<00:04, 1149.81it/s]\n"
     ]
    },
    {
     "name": "stdout",
     "output_type": "stream",
     "text": [
      "Optimization terminated successfully.\n",
      "         Current function value: 2.895004\n",
      "         Iterations: 3\n",
      "         Function evaluations: 7\n",
      "         Gradient evaluations: 7\n"
     ]
    },
    {
     "name": "stderr",
     "output_type": "stream",
     "text": [
      "100%|██████████| 5000/5000 [00:12<00:00, 408.23it/s]   | 12/5000 [00:00<00:41, 119.95it/s]\n"
     ]
    },
    {
     "name": "stdout",
     "output_type": "stream",
     "text": [
      "Optimization terminated successfully.\n",
      "         Current function value: 6.137226\n",
      "         Iterations: 11\n",
      "         Function evaluations: 15\n",
      "         Gradient evaluations: 15\n"
     ]
    },
    {
     "name": "stderr",
     "output_type": "stream",
     "text": [
      "100%|██████████| 5000/5000 [02:12<00:00, 37.65it/s]    | 4/5000 [00:00<02:17, 36.22it/s]\n"
     ]
    },
    {
     "name": "stdout",
     "output_type": "stream",
     "text": [
      "Optimization terminated successfully.\n",
      "         Current function value: 18.208503\n",
      "         Iterations: 16\n",
      "         Function evaluations: 20\n",
      "         Gradient evaluations: 20\n"
     ]
    },
    {
     "name": "stderr",
     "output_type": "stream",
     "text": [
      "100%|██████████| 5000/5000 [05:05<00:00, 15.54it/s]    | 4/5000 [00:00<03:45, 22.20it/s]\n"
     ]
    },
    {
     "name": "stdout",
     "output_type": "stream",
     "text": [
      "Optimization terminated successfully.\n",
      "         Current function value: 36.366457\n",
      "         Iterations: 16\n",
      "         Function evaluations: 20\n",
      "         Gradient evaluations: 20\n"
     ]
    },
    {
     "name": "stderr",
     "output_type": "stream",
     "text": [
      "100%|██████████| 5000/5000 [05:18<00:00, 11.09it/s]    | 4/5000 [00:00<02:24, 34.52it/s]\n"
     ]
    }
   ],
   "source": [
    "models20={}\n",
    "\n",
    "for msize in [1,2, 4, 10, 19]:\n",
    "    pf=PolynomialFeatures(msize, include_bias=False).fit_transform(xtrain.reshape(-1,1))\n",
    "    pftest=PolynomialFeatures(msize, include_bias=False).fit_transform(xtest.reshape(-1,1))\n",
    "\n",
    "    with pm.Model() as m:\n",
    "        alpha = pm.Normal('alpha', 0, 100)\n",
    "        beta = pm.Normal('beta', mu=0, sd=ridge, shape=msize)\n",
    "        mu = alpha + pm.math.dot(pf, beta)\n",
    "        o = pm.Normal('o', mu, sigma, observed=ytrain)\n",
    "        trace=pm.sample(5000, init='MAP')\n",
    "        \n",
    "    with pm.Model() as mtest:\n",
    "        alpha = pm.Normal('alpha', 0, 100)\n",
    "        beta = pm.Normal('beta', mu=0, sd=ridge, shape=msize)\n",
    "        mu = alpha + pm.math.dot(pftest, beta)\n",
    "        o = pm.Normal('o', mu, sigma, observed=ytrain)\n",
    "                           \n",
    "    models20[msize] = (m, trace, mtest)"
   ]
  },
  {
   "cell_type": "markdown",
   "metadata": {},
   "source": [
    "We have produced an ensemble of 6 models with traces and both training and testing models which we can now use."
   ]
  },
  {
   "cell_type": "code",
   "execution_count": 15,
   "metadata": {
    "collapsed": false
   },
   "outputs": [
    {
     "data": {
      "text/plain": [
       "{1: (<pymc3.model.Model at 0x125e27ef0>,\n",
       "  <MultiTrace: 1 chains, 5000 iterations, 2 variables>,\n",
       "  <pymc3.model.Model at 0x1270019b0>),\n",
       " 2: (<pymc3.model.Model at 0x127c78ba8>,\n",
       "  <MultiTrace: 1 chains, 5000 iterations, 2 variables>,\n",
       "  <pymc3.model.Model at 0x12816dd30>),\n",
       " 4: (<pymc3.model.Model at 0x128511438>,\n",
       "  <MultiTrace: 1 chains, 5000 iterations, 2 variables>,\n",
       "  <pymc3.model.Model at 0x1289ffe10>),\n",
       " 10: (<pymc3.model.Model at 0x128c73a58>,\n",
       "  <MultiTrace: 1 chains, 5000 iterations, 2 variables>,\n",
       "  <pymc3.model.Model at 0x1296dc0f0>),\n",
       " 19: (<pymc3.model.Model at 0x128b8e048>,\n",
       "  <MultiTrace: 1 chains, 5000 iterations, 2 variables>,\n",
       "  <pymc3.model.Model at 0x129f9f518>)}"
      ]
     },
     "execution_count": 15,
     "metadata": {},
     "output_type": "execute_result"
    }
   ],
   "source": [
    "models20"
   ]
  },
  {
   "cell_type": "markdown",
   "metadata": {},
   "source": [
    "## Information Criteria\n",
    "\n",
    "All information criteria derive from the **Deviance**, which we learnt about when we learned about the KL-divergence. Here is a short summary.\n",
    "\n",
    "If $p$ is nature's distribution, we want to know how far we are from \"perfect accuracy\" by using $q$. In other words we need to develop a distance scale for distances between distributions.\n",
    "\n",
    "This scale is called the Kullback-Leibler (KL) Divergence, introduced in 1951. It is defined thus:\n",
    "\n",
    "$$\\renewcommand{\\kld}{D_{KL}}$$\n",
    "\n",
    "$$\\kld(p, q) = E_p[log(p) - log(q)] = E_p[log(p/q)] = \\sum_i p_i log(\\frac{p_i}{q_i}) \\,\\,or\\, \\int dP log(\\frac{p}{q})$$\n",
    "\n",
    "The distance between a distribution and itself is clearly $\\kld(p,p) = 0$.\n",
    "\n",
    "We can use Jensen's inequality for expectations on a convex function $f(x)$,\n",
    "\n",
    "$$ E[f(X)] \\ge f(E[X]) $$\n",
    "\n",
    "to show that $\\kld(p,q) \\ge 0$ with equality iff (if and only if) $q=p$.\n",
    "\n",
    "If one uses the **law or large numbers** to replace the true distribution by its empirical estimate, then we have:\n",
    "\n",
    "$$\\kld(p, q) = E_p[log(p/q)] = \\frac{1}{N}\\sum_i (log(p_i) - log(q_i)$$\n",
    "\n",
    "Thus minimizing the KL-divergence involves maximizing $\\sum_i log(q_i)$ which is exactly the log likelihood. Hence we can justify the maximum likelihood principle.\n",
    "\n",
    "### Comparing models\n",
    "\n",
    "By the same token we can use the KL-Divergences of two different models to do model comparison:\n",
    "\n",
    "$$\\kld(p, q) -\\kld(p, r) = E_p[log(r) - log(q)] = E_p[log(\\frac{r}{q})]$$\n",
    "\n",
    "Notice that except for choosing the empirical samples, $p$ has dissapeared from this formula.\n",
    "\n",
    "f you look at the expression above, you notice that to compare a model with distribution $r$ to one with distribution $q$, you only need the sample averages of the logarithm of $r$ and $q$:\n",
    "\n",
    "$$\\kld(p, q) -\\kld(p, r) = \\langle log(r) \\rangle - \\langle log(q) \\rangle$$\n",
    "\n",
    "where the angled brackets mean sample average. If we define the deviance:\n",
    "\n",
    "$$D(q) = -2 \\sum_i log(q_i)$$,\n",
    "\n",
    "then\n",
    "\n",
    "$$\\kld(p, q) -\\kld(p, r) = \\frac{2}{N} (D(q) - D(r))$$\n",
    "\n",
    "so that we can use the deviance's for model comparison instead.\n",
    "\n",
    "More generally, we can define the deviance without using the sample average over the empirical distribution as\n",
    "\n",
    "$$ D(q) = - \\frac{N}{2} E_p[log(q)] $$\n",
    "\n",
    "Now in the frequentist realm one used likelihoods. In the bayesian realm, the **posterior predictive**, which has learned from the data seems to be the more sensible distribution to use. But lets work our way there.\n",
    "\n",
    "In other words, we are trying to estimate $E_p[log(pp(y))]$ where $pp(y)$ is the posterior predictive for points $y$ on the test set or future data.\n",
    "\n",
    "We replace this joint posterior predictive over new points $y$ by product of marginals and thus a sum of log-marginals at new points(since we are doing logs). \n",
    "\n",
    "$$\\sum_i E_p[log(pp(y_i))]$$\n",
    "\n",
    "The quantity inside the sum is called the elpd (expected log predictive density) and the entire thing the elppd (expected log pointwise predictive density. Clearly the product of marginals is not the joint, so this is a different quantity, crafted to give us a pointwise notion of deviance."
   ]
  },
  {
   "cell_type": "markdown",
   "metadata": {},
   "source": [
    "## The WAIC\n",
    "\n",
    "This is finally, a fully bayesian construct.\n",
    "\n",
    "It does not require a multivariate gaussian posterior. The distinguishing feature of it is that its pointwise, it does not use the joint $p(y)$ to make its estimates. This is very useful for glms by fitting for each observation, then summing up over observations.\n",
    "\n",
    "Since we do not know the true distribution $p$, we replace the Deviance term \n",
    "\n",
    "$$\\sum_i E_p[log(pp(y_i))]$$\n",
    "\n",
    "where $y_i$ are new\n",
    " \n",
    "by the computed \"log pointwise predictive density\" (lppd) **in-sample**\n",
    "\n",
    "$$\\sum_j log\\left<p(y_j \\vert \\theta)\\right> = \\sum_j log\\left(\\frac{1}{S}\\sum_s p(y_j \\vert \\theta_s) \\right)$$\n",
    "\n",
    "which now does the full monte-carlo average in the angled brackets on a point-wise basis.\n",
    "\n",
    "The lppd is the total across in-sample observations of the average likelihood (over the posterior of each observation. Multiplied by -2, its the pointwise analog of deviance.\n",
    "\n",
    "The $p_W$ correction also becomes more fully bayesian, as in being\n",
    "\n",
    "$$p_W = 2\\sum_i \\left(log(E_{post}[p(y_i \\vert \\theta)] - E_{post}[log(p(y_i \\vert \\theta))] \\right)$$\n",
    "\n",
    "Once again this can be estimated by\n",
    "$$\\sum_i Var_{post}[log(p(y_i \\vert \\theta))]$$\n",
    "\n",
    "If you do these calculations by hand (and you should to check) make sure you use the `log-sum-exp` trick. Start with log(p), exponential it, sum it, and log again.\n",
    "\n",
    "Now\n",
    "\n",
    "$$WAIC = lppd +2 p_W$$"
   ]
  },
  {
   "cell_type": "code",
   "execution_count": 16,
   "metadata": {
    "collapsed": false
   },
   "outputs": [
    {
     "name": "stderr",
     "output_type": "stream",
     "text": [
      "//anaconda/envs/py35/lib/python3.5/site-packages/pymc3/stats.py:145: UserWarning: For one or more samples the posterior variance of the\n",
      "        log predictive densities exceeds 0.4. This could be indication of\n",
      "        WAIC starting to fail see http://arxiv.org/abs/1507.04544 for details\n",
      "        \n",
      "  \"\"\")\n"
     ]
    },
    {
     "name": "stdout",
     "output_type": "stream",
     "text": [
      "For Model with 1 slope, waic is WAIC_r(WAIC=18.086154924759676, WAIC_se=10.162063571524614, p_WAIC=4.6685686490640128)\n",
      "For Model with 2 slope, waic is WAIC_r(WAIC=-7.9746057666052668, WAIC_se=4.8913389425902176, p_WAIC=2.8290346198804275)\n",
      "For Model with 19 slope, waic is WAIC_r(WAIC=61.178349788662352, WAIC_se=25.002444963302214, p_WAIC=38.140875766495071)\n",
      "For Model with 4 slope, waic is WAIC_r(WAIC=-5.1476015964310298, WAIC_se=4.5248859948089732, p_WAIC=5.0163702157862842)\n",
      "For Model with 10 slope, waic is WAIC_r(WAIC=91.825697802482608, WAIC_se=34.336737894534828, p_WAIC=53.519631187786722)\n"
     ]
    }
   ],
   "source": [
    "for npa in models20:\n",
    "    m,t, test=models20[npa]\n",
    "    print(\"For Model with {} slope, waic is {}\".format(npa, pm.waic(t, model=m)))"
   ]
  },
  {
   "cell_type": "markdown",
   "metadata": {},
   "source": [
    "As we saw earlier in machine learning, many polynomial models will be fine. We next see an example of model-selection in Posson regression which puts the WAIC to good use."
   ]
  },
  {
   "cell_type": "markdown",
   "metadata": {},
   "source": [
    "## Using information criteria\n",
    "\n",
    "I will just quote McElreath:\n",
    "\n",
    ">But once we have DIC or WAIC calculated for each plausible model, how do we use these values? Since information criteria values provide advice about relative model performance, they can be used in many different ways. Frequently, people discuss MODEL SELECTION, which usually means choosing the model with the lowest AIC/DIC/WAIC value and then discarding the others. But this kind of selection procedure discards the information about relative model accuracy contained in the differences among the AIC/DIC/WAIC values. Why is this information useful? Because sometimes the differences are large and sometimes they are small. Just as relative posterior probability provides advice about how confident we might be about parameters (conditional on the model), relative model accuracy provides advice about how confident we might be about models (conditional on the set of models compared).\n",
    "\n",
    ">So instead of model selection, this section provides a brief example of model comparison and model averaging.\n",
    "- MODEL COMPARISON means using DIC/WAIC in combination with the estimates and posterior predictive checks from each model. It is just as important to understand why a model outperforms another as it is to measure the performance difference. DIC/WAIC alone says very little about such details. But in combination with other information, DIC/WAIC is a big help.\n",
    "- MODEL AVERAGING means using DIC/WAIC to construct a posterior predictive distribution that exploits what we know about relative accuracy of the models. This helps guard against overconfidence in model structure, in the same way that using the entire posterior distribution helps guard against overconfidence in parameter values. What model averaging does not mean is averaging parameter estimates, because parameters in different models have different meanings and should not be averaged, unless you are sure you are in a special case in which it is safe to do so. So it is better to think of model averaging as prediction averaging, because that's what is actually being done. (McElreath 195-196)\n",
    "\n"
   ]
  },
  {
   "cell_type": "markdown",
   "metadata": {
    "collapsed": true
   },
   "source": []
  },
  {
   "cell_type": "markdown",
   "metadata": {},
   "source": []
  },
  {
   "cell_type": "markdown",
   "metadata": {},
   "source": []
  },
  {
   "cell_type": "markdown",
   "metadata": {},
   "source": []
  },
  {
   "cell_type": "code",
   "execution_count": 17,
   "metadata": {
    "collapsed": false
   },
   "outputs": [
    {
     "name": "stderr",
     "output_type": "stream",
     "text": [
      "//anaconda/envs/py35/lib/python3.5/site-packages/pymc3/stats.py:208: UserWarning: Estimated shape parameter of Pareto distribution is\n",
      "        greater than 0.7 for one or more samples.\n",
      "        You should consider using a more robust model, this is\n",
      "        because importance sampling is less likely to work well if the marginal\n",
      "        posterior and LOO posterior are very different. This is more likely to\n",
      "        happen with a non-robust model and highly influential observations.\n",
      "  happen with a non-robust model and highly influential observations.\"\"\")\n"
     ]
    },
    {
     "name": "stdout",
     "output_type": "stream",
     "text": [
      "For Model with 1 slope, loo is LOO_r(LOO=19.345559544708721, LOO_se=10.448387931742174, p_LOO=5.2982709590385335)\n",
      "For Model with 2 slope, loo is LOO_r(LOO=-6.4907292356212007, LOO_se=5.6639101289730434, p_LOO=3.5709728853724583)\n",
      "For Model with 19 slope, loo is LOO_r(LOO=1.1788924202325761, LOO_se=7.3342281925207269, p_LOO=8.1411470822801828)\n",
      "For Model with 4 slope, loo is LOO_r(LOO=-7.8411331189326319, LOO_se=4.9343760037143145, p_LOO=3.6696044545354827)\n",
      "For Model with 10 slope, loo is LOO_r(LOO=-1.3783161338355767, LOO_se=6.6512996064759902, p_LOO=6.917624219627621)\n"
     ]
    }
   ],
   "source": []
  },
  {
   "cell_type": "markdown",
   "metadata": {},
   "source": []
  },
  {
   "cell_type": "code",
   "execution_count": null,
   "metadata": {
    "collapsed": true
   },
   "outputs": [],
   "source": []
  }
 ],
 "metadata": {
  "anaconda-cloud": {},
  "kernelspec": {
   "display_name": "Python 3",
   "language": "python",
   "name": "python3"
  },
  "language_info": {
   "codemirror_mode": {
    "name": "ipython",
    "version": 3
   },
   "file_extension": ".py",
   "mimetype": "text/x-python",
   "name": "python",
   "nbconvert_exporter": "python",
   "pygments_lexer": "ipython3",
   "version": "3.6.0"
  }
 },
 "nbformat": 4,
 "nbformat_minor": 0
}
