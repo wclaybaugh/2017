{
 "cells": [
  {
   "cell_type": "markdown",
   "metadata": {},
   "source": [
    "## Geweke Test: Testing for difference in Means\n",
    "Geweke compares two sections of a single chain: an early section and a later section, commonly the first 10% and the last 50% of the chain.\n",
    "\n",
    "If the chain converged quickly, the first 10% should be from the statinary distribution, and the last 50% should be as well. There should be no way to tell the samples apart.\n",
    "\n",
    "The Geweke test itself compares the means of each sample, since it is possible to construct a statistic with known distribution and thus find a p value."
   ]
  },
  {
   "cell_type": "markdown",
   "metadata": {
    "collapsed": true
   },
   "source": [
    "#### The test\n",
    "Let $H_0$ be the null hypothesis of convergence. In this world, both chains are indistinguishable and there is no difference in the means of the distributions from each of the chains. That is\n",
    "\n",
    "$$H_0 : convergence: \\mu_{\\theta_b}  - \\mu_{\\theta_e} = 0 $$\n",
    "\n",
    "Where $\\mu_{\\theta_b}$ is the average value of the sample from the beginning of the chain, and $\\mu_{\\theta_e}$ is the same from the sample from the end of the chain.\n",
    "\n",
    "The under the null hypothesis, the standard deviation of the difference in means is:\n",
    "\n",
    "$$S=\\sqrt{\\frac{var(\\theta_b)}{n_1} + \\frac{var(\\theta_e)}{n_2} }$$\n",
    "\n",
    "The formulae to estimate $var(\\theta_b)$ and $var(\\theta_e)$ are complex becuase they work with correlated samples, and are not given here.\n",
    "\n",
    "Under the null hypothesis and with large n in each sub-section the difference in means, dividided by its standard deviation, should follow a standard normal distribution. Ergo, we can reject the null if our estimated value of difference-in-means-over-sd is in the top 5% most extreme values of a standard normal.\n",
    "\n",
    "#### In code\n",
    "The test is available in pymc3 as `pymc3.diagnostics.geweke`."
   ]
  },
  {
   "cell_type": "code",
   "execution_count": null,
   "metadata": {
    "collapsed": true
   },
   "outputs": [],
   "source": []
  }
 ],
 "metadata": {
  "kernelspec": {
   "display_name": "Python 3",
   "language": "python",
   "name": "python3"
  },
  "language_info": {
   "codemirror_mode": {
    "name": "ipython",
    "version": 3
   },
   "file_extension": ".py",
   "mimetype": "text/x-python",
   "name": "python",
   "nbconvert_exporter": "python",
   "pygments_lexer": "ipython3",
   "version": "3.6.0"
  }
 },
 "nbformat": 4,
 "nbformat_minor": 2
}
