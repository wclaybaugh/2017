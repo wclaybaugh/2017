{
 "cells": [
  {
   "cell_type": "markdown",
   "metadata": {},
   "source": [
    "## Technical terms:\n",
    "We've said that the number in row three, column seven of our dataset isn't always the same every time we collect the data. Instead, we view it as a Random Variable. \n",
    "\n",
    "A **random variable** is any number that isn't 100% deterministic. For instance, the number of heads you see out of 10 coin flips is a random variable becuase you might see 7 heads, or 5, or 0. The reading on a tool to measure the speed of light is a random variable (even if the speed of light is not), because of (small) variations in the instrument or experimental setup. And the reading when you step on a scale at 8:00 am every morning is a random variable incorporting both errors in the scale and variations in your actual weight as you breathe or eat. Any collectible number that isn't 100% always the same value is a random variable.\n",
    "\n",
    "Any random variable follows a **distribution**. A distribution is a function that takes in a single number (or range of numbers) and tells you the probability of seeing an outcome in that range. See the notes on PDFs and CDfs for more. So we ask distributions questions like \"What's the probability that when I step on the scale, I'll see a number above 170?\". The random variable is the number the scale shows, and the distribution a record of how likley the scale is to show each number. In practice we'll rarely know the exact distribution of measurements, but we can still approximate the distribution emperically or with a famous distribution of appropriate parameters.\n",
    "\n",
    "Any number crunched from a dataset is a **statistic**. Yep. Any. And a statistic is just some single-number summary of a dataset. Each and every statistic is a random variable and thus has some distribution. Even though with the data in hand you'll always calculate the same mean, the particular data you got was subject to chance so the whole [collect data, calculate mean] process yeilds a random variable. There is a distribution of possible means you may observe.\n",
    "\n",
    "The distribution of possible values of a statistic (that is, of some number calculated from your data) is the **sampling distribution**. The name comes from the idea that your particular data is but one (or nRows, if the rows are independent) sample(s), and with a different sample dataset from that distribution the statistic you calculated would be different. Ergo, the statistic has a distribution driven by the particular samples: a sampling distribution."
   ]
  },
  {
   "cell_type": "code",
   "execution_count": null,
   "metadata": {
    "collapsed": true
   },
   "outputs": [],
   "source": []
  }
 ],
 "metadata": {
  "kernelspec": {
   "display_name": "Python 3",
   "language": "python",
   "name": "python3"
  },
  "language_info": {
   "codemirror_mode": {
    "name": "ipython",
    "version": 3
   },
   "file_extension": ".py",
   "mimetype": "text/x-python",
   "name": "python",
   "nbconvert_exporter": "python",
   "pygments_lexer": "ipython3",
   "version": "3.6.0"
  }
 },
 "nbformat": 4,
 "nbformat_minor": 2
}
